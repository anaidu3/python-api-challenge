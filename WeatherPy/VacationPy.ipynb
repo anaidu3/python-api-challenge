{
 "cells": [
  {
   "cell_type": "markdown",
   "metadata": {},
   "source": [
    "# VacationPy\n",
    "----\n",
    "\n",
    "#### Note\n",
    "* Keep an eye on your API usage. Use https://developers.google.com/maps/reporting/gmp-reporting as reference for how to monitor your usage and billing.\n",
    "\n",
    "* Instructions have been included for each segment. You do not have to follow them exactly, but they are included to help you think through the steps."
   ]
  },
  {
   "cell_type": "code",
   "execution_count": 2,
   "metadata": {},
   "outputs": [],
   "source": [
    "# Dependencies and Setup\n",
    "import matplotlib.pyplot as plt\n",
    "import pandas as pd\n",
    "import numpy as np\n",
    "import requests\n",
    "import gmaps\n",
    "import os\n",
    "\n",
    "# Import API key\n",
    "from api_keys import gkey"
   ]
  },
  {
   "cell_type": "markdown",
   "metadata": {},
   "source": [
    "### Store Part I results into DataFrame\n",
    "* Load the csv exported in Part I to a DataFrame"
   ]
  },
  {
   "cell_type": "code",
   "execution_count": 3,
   "metadata": {
    "scrolled": true
   },
   "outputs": [
    {
     "data": {
      "text/plain": [
       "Index(['city_name', 'country', 'latitude', 'longitude', 'max_temperature',\n",
       "       'humidity', 'cloudiness', 'wind speed'],\n",
       "      dtype='object')"
      ]
     },
     "execution_count": 3,
     "metadata": {},
     "output_type": "execute_result"
    }
   ],
   "source": [
    "cities_df = pd.read_csv('WeatherPy_outputs/city_df.csv')\n",
    "#print(cities_df)\n",
    "cities_df.columns"
   ]
  },
  {
   "cell_type": "markdown",
   "metadata": {},
   "source": [
    "### Humidity Heatmap\n",
    "* Configure gmaps.\n",
    "* Use the Lat and Lng as locations and Humidity as the weight.\n",
    "* Add Heatmap layer to map."
   ]
  },
  {
   "cell_type": "code",
   "execution_count": 4,
   "metadata": {},
   "outputs": [],
   "source": [
    "gmaps.configure(api_key=gkey)\n",
    "\n",
    "#add locations and humidity\n",
    "#converted humidity to a number for heatmap\n",
    "locations = cities_df[[\"latitude\", \"longitude\"]]\n",
    "humidity = cities_df[\"humidity\"].astype(float)\n",
    "max_humidity = humidity.max()"
   ]
  },
  {
   "cell_type": "code",
   "execution_count": 5,
   "metadata": {},
   "outputs": [
    {
     "data": {
      "application/vnd.jupyter.widget-view+json": {
       "model_id": "baaca6c26890497f81761843da36a8e3",
       "version_major": 2,
       "version_minor": 0
      },
      "text/plain": [
       "Figure(layout=FigureLayout(height='420px'))"
      ]
     },
     "metadata": {},
     "output_type": "display_data"
    }
   ],
   "source": [
    "humidity_heatmap = gmaps.figure()\n",
    "heat_layer = gmaps.heatmap_layer(locations, weights=humidity,dissipating=False, max_intensity=max_humidity,point_radius=3)\n",
    "humidity_heatmap.add_layer(heat_layer)\n",
    "humidity_heatmap"
   ]
  },
  {
   "cell_type": "markdown",
   "metadata": {},
   "source": [
    "### Create new DataFrame fitting weather criteria\n",
    "* Narrow down the cities to fit weather conditions.\n",
    "* Drop any rows will null values.\n",
    "* A max temperature lower than 30 degrees but higher than 20.\n",
    "* Wind speed less than 10 mph.\n",
    "* Zero cloudiness.\n",
    "* Drop any rows that don't satisfy all three conditions. You want to be sure the weather is ideal."
   ]
  },
  {
   "cell_type": "code",
   "execution_count": 9,
   "metadata": {},
   "outputs": [
    {
     "name": "stdout",
     "output_type": "stream",
     "text": [
      "                       City Country  latitude  longitude  max_temperature  \\\n",
      "29                Jamestown      US   42.0970   -79.2353            22.80   \n",
      "30                    Nizwá      OM   22.9333    57.5333            24.57   \n",
      "64                 Aripuanã      BR   -9.1667   -60.6333            23.57   \n",
      "151               Inhambane      MZ  -23.8650    35.3833            23.50   \n",
      "218                 Xinzhou      CN   38.4092   112.7333            22.39   \n",
      "256  Felipe Carrillo Puerto      MX   19.5833   -88.0500            24.61   \n",
      "290                  Maxixe      MZ  -23.8597    35.3472            22.93   \n",
      "457                Tomatlán      MX   19.9333  -105.2500            24.68   \n",
      "546                   Wāliṅ      NP   27.9833    83.7667            22.63   \n",
      "\n",
      "     humidity  cloudiness  wind speed  \n",
      "29         40           0        2.57  \n",
      "30         43           0        0.94  \n",
      "64         93           0        0.33  \n",
      "151        87           0        1.81  \n",
      "218        14           0        0.32  \n",
      "256        79           0        2.00  \n",
      "290        89           0        1.49  \n",
      "457        62           0        2.47  \n",
      "546        27           0        1.92  \n"
     ]
    }
   ],
   "source": [
    "# #finding perfect weather conditions\n",
    "#note, temperatures are in degrees Celsius\n",
    "perfect_weather = cities_df.loc[(cities_df[\"max_temperature\"] > 22) & (cities_df[\"max_temperature\"] < 26)& (cities_df[\"cloudiness\"] == 0) & (cities_df[\"wind speed\"] < 3), :]\n",
    "perfect_weather = perfect_weather.dropna(how='any')\n",
    "perfect_weather.rename(columns = {'city_name':'City', 'country':'Country'}, inplace = True)\n",
    "print(perfect_weather)\n",
    "#add conditions until you get less than 10 cities\n",
    "#len(perfect_weather)"
   ]
  },
  {
   "cell_type": "markdown",
   "metadata": {},
   "source": [
    "### Hotel Map\n",
    "* Store into variable named `hotel_df`.\n",
    "* Add a \"Hotel Name\" column to the DataFrame.\n",
    "* Set parameters to search for hotels with 5000 meters.\n",
    "* Hit the Google Places API for each city's coordinates.\n",
    "* Store the first Hotel result into the DataFrame.\n",
    "* Plot markers on top of the heatmap."
   ]
  },
  {
   "cell_type": "code",
   "execution_count": 14,
   "metadata": {},
   "outputs": [
    {
     "name": "stdout",
     "output_type": "stream",
     "text": [
      "                       City Country  latitude  longitude  max_temperature  \\\n",
      "29                Jamestown      US   42.0970   -79.2353            22.80   \n",
      "30                    Nizwá      OM   22.9333    57.5333            24.57   \n",
      "64                 Aripuanã      BR   -9.1667   -60.6333            23.57   \n",
      "151               Inhambane      MZ  -23.8650    35.3833            23.50   \n",
      "218                 Xinzhou      CN   38.4092   112.7333            22.39   \n",
      "256  Felipe Carrillo Puerto      MX   19.5833   -88.0500            24.61   \n",
      "290                  Maxixe      MZ  -23.8597    35.3472            22.93   \n",
      "457                Tomatlán      MX   19.9333  -105.2500            24.68   \n",
      "546                   Wāliṅ      NP   27.9833    83.7667            22.63   \n",
      "\n",
      "     humidity  cloudiness  wind speed                      Hotel Name  \n",
      "29         40           0        2.57  Hampton Inn & Suites Jamestown  \n",
      "30         43           0        0.94               Orient Apartments  \n",
      "64         93           0        0.33                                  \n",
      "151        87           0        1.81                          Oceano  \n",
      "218        14           0        0.32           Shell Hotel - Xinzhou  \n",
      "256        79           0        2.00                  Hotel La Ceiba  \n",
      "290        89           0        1.49                          Oceano  \n",
      "457        62           0        2.47                      El Salvial  \n",
      "546        27           0        1.92                     Venus Hotel  \n"
     ]
    }
   ],
   "source": [
    "#store into variable named hotel_df\n",
    "hotel_df = perfect_weather\n",
    "hotel_name = []\n",
    "# # len(hotel_df)\n",
    "for i,r in hotel_df.iterrows():\n",
    "    lat = r['latitude']\n",
    "    lng = r['longitude']\n",
    "\n",
    "    params = {\n",
    "        \"location\": f\"{lat},{lng}\",\n",
    "        \"radius\": 5000,\n",
    "        \"types\" : \"lodging\",\n",
    "        \"key\": gkey\n",
    "    }\n",
    "    \n",
    "    base_url = \"https://maps.googleapis.com/maps/api/place/nearbysearch/json\"\n",
    "    response = requests.get(base_url, params=params).json()\n",
    "    \n",
    "    try:\n",
    "        hotel_name.append(response['results'][0]['name'])\n",
    "    except:\n",
    "        hotel_name.append(\"\")\n",
    "\n",
    "hotel_df[\"Hotel Name\"] = hotel_name\n",
    "hotel_df = hotel_df.dropna(how='any')\n",
    "print(hotel_df)"
   ]
  },
  {
   "cell_type": "code",
   "execution_count": 15,
   "metadata": {},
   "outputs": [],
   "source": [
    "# NOTE: Do not change any of the code in this cell\n",
    "\n",
    "# Using the template add the hotel marks to the heatmap\n",
    "info_box_template = \"\"\"\n",
    "<dl>\n",
    "<dt>Name</dt><dd>{Hotel Name}</dd>\n",
    "<dt>City</dt><dd>{City}</dd>\n",
    "<dt>Country</dt><dd>{Country}</dd>\n",
    "</dl>\n",
    "\"\"\"\n",
    "# Store the DataFrame Row\n",
    "# NOTE: be sure to update with your DataFrame name\n",
    "hotel_info = [info_box_template.format(**r) for i, r in hotel_df.iterrows()]\n",
    "locations = hotel_df[[\"latitude\", \"longitude\"]]"
   ]
  },
  {
   "cell_type": "code",
   "execution_count": 16,
   "metadata": {},
   "outputs": [
    {
     "data": {
      "application/vnd.jupyter.widget-view+json": {
       "model_id": "baaca6c26890497f81761843da36a8e3",
       "version_major": 2,
       "version_minor": 0
      },
      "text/plain": [
       "Figure(layout=FigureLayout(height='420px'))"
      ]
     },
     "metadata": {},
     "output_type": "display_data"
    }
   ],
   "source": [
    "# Add marker layer ontop of heat map\n",
    "markers = gmaps.marker_layer(locations)\n",
    "\n",
    "hotel_layer = gmaps.symbol_layer(\n",
    "    locations, fill_color='rgba(0, 150, 0, 0.4)',\n",
    "    stroke_color='rgba(0, 0, 150, 0.4)', scale=2,\n",
    "    info_box_content=hotel_info\n",
    ")\n",
    "humidity_heatmap.add_layer(markers)\n",
    "humidity_heatmap.add_layer(hotel_layer)\n",
    "humidity_heatmap"
   ]
  },
  {
   "cell_type": "code",
   "execution_count": null,
   "metadata": {},
   "outputs": [],
   "source": []
  }
 ],
 "metadata": {
  "kernelspec": {
   "display_name": "PythonData",
   "language": "python",
   "name": "pythondata"
  },
  "language_info": {
   "codemirror_mode": {
    "name": "ipython",
    "version": 3
   },
   "file_extension": ".py",
   "mimetype": "text/x-python",
   "name": "python",
   "nbconvert_exporter": "python",
   "pygments_lexer": "ipython3",
   "version": "3.9.7"
  },
  "latex_envs": {
   "LaTeX_envs_menu_present": true,
   "autoclose": false,
   "autocomplete": true,
   "bibliofile": "biblio.bib",
   "cite_by": "apalike",
   "current_citInitial": 1,
   "eqLabelWithNumbers": true,
   "eqNumInitial": 1,
   "hotkeys": {
    "equation": "Ctrl-E",
    "itemize": "Ctrl-I"
   },
   "labels_anchors": false,
   "latex_user_defs": false,
   "report_style_numbering": false,
   "user_envs_cfg": false
  }
 },
 "nbformat": 4,
 "nbformat_minor": 4
}
