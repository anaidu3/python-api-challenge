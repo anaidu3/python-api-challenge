{
 "cells": [
  {
   "cell_type": "markdown",
   "metadata": {},
   "source": [
    "# WeatherPy\n",
    "----\n",
    "\n",
    "#### Note\n",
    "* Instructions have been included for each segment. You do not have to follow them exactly, but they are included to help you think through the steps."
   ]
  },
  {
   "cell_type": "markdown",
   "metadata": {},
   "source": [
    "Part 1: WeatherPy\n",
    "Creating a series of scatter plots to showcase the following relationships:\n",
    "* Temperature (F) vs. Latitude\n",
    "* Humidity (%) vs. Latitude\n",
    "* Cloudiness (%) vs. Latitude\n",
    "* Wind Speed (mph) vs. Latitude"
   ]
  },
  {
   "cell_type": "code",
   "execution_count": 1,
   "metadata": {
    "scrolled": true
   },
   "outputs": [],
   "source": [
    "# Dependencies and Setup\n",
    "import matplotlib.pyplot as plt\n",
    "import pandas as pd\n",
    "import numpy as np\n",
    "import requests\n",
    "import time\n",
    "from scipy.stats import linregress\n",
    "\n",
    "# Import API key\n",
    "from api_keys import weather_api_key\n",
    "\n",
    "# Incorporated citipy to determine city based on latitude and longitude\n",
    "from citipy import citipy\n",
    "\n",
    "# Output File (CSV)\n",
    "output_data_file = \"output_data/cities.csv\"\n",
    "\n",
    "# Range of latitudes and longitudes\n",
    "lat_range = (-90, 90)\n",
    "lng_range = (-180, 180)"
   ]
  },
  {
   "cell_type": "markdown",
   "metadata": {},
   "source": [
    "## Generate Cities List"
   ]
  },
  {
   "cell_type": "code",
   "execution_count": 2,
   "metadata": {},
   "outputs": [
    {
     "data": {
      "text/plain": [
       "615"
      ]
     },
     "execution_count": 2,
     "metadata": {},
     "output_type": "execute_result"
    }
   ],
   "source": [
    "# List for holding lat_lngs and cities\n",
    "lat_lngs = []\n",
    "cities = []\n",
    "\n",
    "# Create a set of random lat and lng combinations\n",
    "lats = np.random.uniform(lat_range[0], lat_range[1], size=1500)\n",
    "lngs = np.random.uniform(lng_range[0], lng_range[1], size=1500)\n",
    "lat_lngs = zip(lats, lngs)\n",
    "\n",
    "# Identify nearest city for each lat, lng combination\n",
    "for lat_lng in lat_lngs:\n",
    "    city = citipy.nearest_city(lat_lng[0], lat_lng[1]).city_name\n",
    "    \n",
    "    # If the city is unique, then add it to a our cities list\n",
    "    if city not in cities:\n",
    "        cities.append(city)\n",
    "\n",
    "# Print the city count to confirm sufficient count\n",
    "len(cities)\n",
    "#print(cities)"
   ]
  },
  {
   "cell_type": "markdown",
   "metadata": {},
   "source": [
    "### Perform API Calls\n",
    "* Perform a weather check on each city using a series of successive API calls.\n",
    "* Include a print log of each city as it's being processed (with the city number and city name)."
   ]
  },
  {
   "cell_type": "code",
   "execution_count": 3,
   "metadata": {
    "scrolled": true
   },
   "outputs": [],
   "source": [
    "# Save config information.\n",
    "url = \"http://api.openweathermap.org/data/2.5/weather?\"\n",
    "units = \"metric\"\n",
    "\n",
    "# Build partial query URL\n",
    "query_url = f\"{url}appid={weather_api_key}&units={units}&q=\"\n"
   ]
  },
  {
   "cell_type": "code",
   "execution_count": 4,
   "metadata": {},
   "outputs": [
    {
     "name": "stdout",
     "output_type": "stream",
     "text": [
      "Processing Record 1 of Set 1 | la ronge\n",
      "Processing Record 2 of Set 1 | kodinsk\n",
      "Processing Record 3 of Set 1 | port alfred\n",
      "Processing Record 4 of Set 1 | coahuayana\n",
      "Processing Record 5 of Set 1 | ushuaia\n",
      "Processing Record 6 of Set 1 | new norfolk\n",
      "Processing Record 7 of Set 1 | atuona\n",
      "Processing Record 8 of Set 1 | victoria\n",
      "Processing Record 9 of Set 1 | punta arenas\n",
      "Processing Record 10 of Set 1 | tiarei\n",
      "Processing Record 11 of Set 1 | karatau\n",
      "Processing Record 12 of Set 1 | hilo\n",
      "Processing Record 13 of Set 1 | east london\n",
      "Processing Record 14 of Set 1 | albany\n",
      "taolanaro not found. Skipping...\n",
      "Processing Record 15 of Set 1 | vila franca do campo\n",
      "Processing Record 16 of Set 1 | hobart\n",
      "Processing Record 17 of Set 1 | rikitea\n",
      "teneguiban not found. Skipping...\n",
      "Processing Record 18 of Set 1 | ponta do sol\n",
      "Processing Record 19 of Set 1 | saint-philippe\n",
      "Processing Record 20 of Set 1 | tymovskoye\n",
      "Processing Record 21 of Set 1 | cabedelo\n",
      "Processing Record 22 of Set 1 | castro\n",
      "Processing Record 23 of Set 1 | sangar\n",
      "khonuu not found. Skipping...\n",
      "Processing Record 24 of Set 1 | geraldton\n",
      "Processing Record 25 of Set 1 | sitka\n",
      "barentsburg not found. Skipping...\n",
      "Processing Record 26 of Set 1 | severo-kurilsk\n",
      "Processing Record 27 of Set 1 | inta\n",
      "grand river south east not found. Skipping...\n",
      "Processing Record 28 of Set 1 | vaini\n",
      "Processing Record 29 of Set 1 | busselton\n",
      "Processing Record 30 of Set 1 | jamestown\n",
      "Processing Record 31 of Set 1 | nizwa\n",
      "Processing Record 32 of Set 1 | upernavik\n",
      "Processing Record 33 of Set 1 | mwinilunga\n",
      "Processing Record 34 of Set 1 | cabo san lucas\n",
      "Processing Record 35 of Set 1 | sinnamary\n",
      "Processing Record 36 of Set 1 | georgetown\n",
      "Processing Record 37 of Set 1 | aklavik\n",
      "Processing Record 38 of Set 1 | sulangan\n",
      "Processing Record 39 of Set 1 | pasco\n",
      "Processing Record 40 of Set 1 | qaanaaq\n",
      "Processing Record 41 of Set 1 | rocha\n",
      "Processing Record 42 of Set 1 | cape town\n",
      "Processing Record 43 of Set 1 | pangnirtung\n",
      "Processing Record 44 of Set 1 | pahrump\n",
      "Processing Record 45 of Set 1 | high level\n",
      "Processing Record 46 of Set 1 | itaituba\n",
      "Processing Record 47 of Set 1 | barrow\n",
      "Processing Record 48 of Set 1 | avarua\n",
      "Processing Record 49 of Set 1 | gazojak\n",
      "Processing Record 50 of Set 1 | chokurdakh\n",
      "Processing Record 0 of Set 2 | alofi\n",
      "Processing Record 1 of Set 2 | lompoc\n",
      "Processing Record 2 of Set 2 | nikolskoye\n",
      "Processing Record 3 of Set 2 | hualmay\n",
      "Processing Record 4 of Set 2 | clyde river\n",
      "Processing Record 5 of Set 2 | bluff\n",
      "Processing Record 6 of Set 2 | iqaluit\n",
      "Processing Record 7 of Set 2 | lodwar\n",
      "Processing Record 8 of Set 2 | salym\n",
      "Processing Record 9 of Set 2 | saldanha\n",
      "Processing Record 10 of Set 2 | acapulco\n",
      "Processing Record 11 of Set 2 | linqiong\n",
      "Processing Record 12 of Set 2 | mae hong son\n",
      "Processing Record 13 of Set 2 | san cristobal\n",
      "marcona not found. Skipping...\n",
      "Processing Record 14 of Set 2 | aripuana\n",
      "Processing Record 15 of Set 2 | alto longa\n",
      "Processing Record 16 of Set 2 | tasiilaq\n",
      "Processing Record 17 of Set 2 | yellowknife\n",
      "Processing Record 18 of Set 2 | mataura\n",
      "Processing Record 19 of Set 2 | haines junction\n",
      "Processing Record 20 of Set 2 | pisco\n",
      "Processing Record 21 of Set 2 | puerto ayora\n",
      "Processing Record 22 of Set 2 | tocopilla\n",
      "Processing Record 23 of Set 2 | klaksvik\n",
      "Processing Record 24 of Set 2 | nemuro\n",
      "Processing Record 25 of Set 2 | hobyo\n",
      "illoqqortoormiut not found. Skipping...\n",
      "Processing Record 26 of Set 2 | thompson\n",
      "Processing Record 27 of Set 2 | kruisfontein\n",
      "Processing Record 28 of Set 2 | yar-sale\n",
      "Processing Record 29 of Set 2 | byron bay\n",
      "Processing Record 30 of Set 2 | ardakan\n",
      "Processing Record 31 of Set 2 | navirai\n",
      "Processing Record 32 of Set 2 | chumikan\n",
      "Processing Record 33 of Set 2 | grand gaube\n",
      "Processing Record 34 of Set 2 | paita\n",
      "Processing Record 35 of Set 2 | phan thiet\n",
      "Processing Record 36 of Set 2 | matay\n",
      "Processing Record 37 of Set 2 | codrington\n",
      "Processing Record 38 of Set 2 | hithadhoo\n",
      "galgani not found. Skipping...\n",
      "Processing Record 39 of Set 2 | bilma\n",
      "Processing Record 40 of Set 2 | bengkulu\n",
      "Processing Record 41 of Set 2 | talnakh\n",
      "Processing Record 42 of Set 2 | khonsa\n",
      "Processing Record 43 of Set 2 | coalinga\n",
      "Processing Record 44 of Set 2 | udachnyy\n",
      "amderma not found. Skipping...\n",
      "Processing Record 45 of Set 2 | port elizabeth\n",
      "sentyabrskiy not found. Skipping...\n",
      "Processing Record 46 of Set 2 | stillwater\n",
      "bur gabo not found. Skipping...\n",
      "Processing Record 47 of Set 2 | port lincoln\n",
      "tabiauea not found. Skipping...\n",
      "Processing Record 48 of Set 2 | havelock\n",
      "Processing Record 49 of Set 2 | katsina\n",
      "Processing Record 50 of Set 2 | kropotkin\n",
      "Processing Record 0 of Set 3 | itaqui\n",
      "Processing Record 1 of Set 3 | cherskiy\n",
      "Processing Record 2 of Set 3 | kargil\n",
      "Processing Record 3 of Set 3 | mount gambier\n",
      "Processing Record 4 of Set 3 | uyuni\n",
      "Processing Record 5 of Set 3 | kununurra\n",
      "Processing Record 6 of Set 3 | murighiol\n",
      "Processing Record 7 of Set 3 | faya\n",
      "Processing Record 8 of Set 3 | sabang\n",
      "Processing Record 9 of Set 3 | provideniya\n",
      "Processing Record 10 of Set 3 | port macquarie\n",
      "Processing Record 11 of Set 3 | roma\n",
      "Processing Record 12 of Set 3 | komsomolskiy\n",
      "Processing Record 13 of Set 3 | kahului\n",
      "Processing Record 14 of Set 3 | lebedinyy\n",
      "Processing Record 15 of Set 3 | guerrero negro\n",
      "Processing Record 16 of Set 3 | rio cuarto\n",
      "Processing Record 17 of Set 3 | ribeira grande\n",
      "Processing Record 18 of Set 3 | ketchikan\n",
      "Processing Record 19 of Set 3 | mayo\n",
      "Processing Record 20 of Set 3 | auki\n",
      "Processing Record 21 of Set 3 | vanavara\n",
      "Processing Record 22 of Set 3 | vicuna\n",
      "Processing Record 23 of Set 3 | kalianget\n",
      "Processing Record 24 of Set 3 | san patricio\n",
      "Processing Record 25 of Set 3 | lebu\n",
      "Processing Record 26 of Set 3 | ngaoundere\n",
      "Processing Record 27 of Set 3 | mehriz\n",
      "Processing Record 28 of Set 3 | point pleasant\n",
      "kamenskoye not found. Skipping...\n",
      "Processing Record 29 of Set 3 | narsaq\n",
      "Processing Record 30 of Set 3 | andover\n",
      "Processing Record 31 of Set 3 | avera\n",
      "Processing Record 32 of Set 3 | mar del plata\n",
      "Processing Record 33 of Set 3 | knysna\n",
      "rungata not found. Skipping...\n",
      "Processing Record 34 of Set 3 | porto walter\n",
      "Processing Record 35 of Set 3 | bambous virieux\n",
      "Processing Record 36 of Set 3 | esperance\n",
      "Processing Record 37 of Set 3 | asyut\n",
      "Processing Record 38 of Set 3 | langfang\n",
      "Processing Record 39 of Set 3 | irbeyskoye\n",
      "Processing Record 40 of Set 3 | buala\n",
      "Processing Record 41 of Set 3 | oxapampa\n",
      "Processing Record 42 of Set 3 | tabas\n",
      "Processing Record 43 of Set 3 | pevek\n",
      "nizhneyansk not found. Skipping...\n",
      "Processing Record 44 of Set 3 | karratha\n",
      "Processing Record 45 of Set 3 | palmer\n",
      "Processing Record 46 of Set 3 | fortuna\n",
      "Processing Record 47 of Set 3 | praia da vitoria\n",
      "Processing Record 48 of Set 3 | eyl\n",
      "Processing Record 49 of Set 3 | hermanus\n",
      "Processing Record 50 of Set 3 | inhambane\n",
      "Processing Record 0 of Set 4 | oksfjord\n",
      "Processing Record 1 of Set 4 | laval\n",
      "Processing Record 2 of Set 4 | along\n",
      "Processing Record 3 of Set 4 | saint george\n",
      "Processing Record 4 of Set 4 | prado\n",
      "Processing Record 5 of Set 4 | xuzhou\n",
      "Processing Record 6 of Set 4 | vardo\n",
      "braslav not found. Skipping...\n",
      "Processing Record 7 of Set 4 | tura\n",
      "Processing Record 8 of Set 4 | zykovo\n",
      "Processing Record 9 of Set 4 | lahij\n",
      "Processing Record 10 of Set 4 | praia\n",
      "Processing Record 11 of Set 4 | maragogi\n",
      "Processing Record 12 of Set 4 | chapais\n",
      "Processing Record 13 of Set 4 | derzhavinsk\n",
      "Processing Record 14 of Set 4 | taltal\n",
      "Processing Record 15 of Set 4 | maneadero\n",
      "Processing Record 16 of Set 4 | faanui\n",
      "Processing Record 17 of Set 4 | mahebourg\n",
      "Processing Record 18 of Set 4 | tongliao\n",
      "Processing Record 19 of Set 4 | iskateley\n",
      "mys shmidta not found. Skipping...\n",
      "Processing Record 20 of Set 4 | longyearbyen\n",
      "Processing Record 21 of Set 4 | luderitz\n",
      "Processing Record 22 of Set 4 | lagoa\n",
      "Processing Record 23 of Set 4 | oranjemund\n",
      "labutta not found. Skipping...\n",
      "Processing Record 24 of Set 4 | lasa\n",
      "Processing Record 25 of Set 4 | kidal\n",
      "Processing Record 26 of Set 4 | rio gallegos\n",
      "Processing Record 27 of Set 4 | qaqortoq\n",
      "Processing Record 28 of Set 4 | darnah\n",
      "Processing Record 29 of Set 4 | hofn\n",
      "Processing Record 30 of Set 4 | ancud\n",
      "Processing Record 31 of Set 4 | kavaratti\n",
      "Processing Record 32 of Set 4 | andrews\n",
      "sataua not found. Skipping...\n"
     ]
    },
    {
     "name": "stdout",
     "output_type": "stream",
     "text": [
      "Processing Record 33 of Set 4 | khatanga\n",
      "Processing Record 34 of Set 4 | sao filipe\n",
      "Processing Record 35 of Set 4 | san francisco\n",
      "Processing Record 36 of Set 4 | petawawa\n",
      "Processing Record 37 of Set 4 | mbandaka\n",
      "Processing Record 38 of Set 4 | koshurnikovo\n",
      "Processing Record 39 of Set 4 | dikson\n",
      "Processing Record 40 of Set 4 | butaritari\n",
      "attawapiskat not found. Skipping...\n",
      "Processing Record 41 of Set 4 | puerto padre\n",
      "Processing Record 42 of Set 4 | havoysund\n",
      "Processing Record 43 of Set 4 | kodiak\n",
      "Processing Record 44 of Set 4 | nacala\n",
      "Processing Record 45 of Set 4 | tres passos\n",
      "Processing Record 46 of Set 4 | walvis bay\n",
      "Processing Record 47 of Set 4 | rajula\n",
      "Processing Record 48 of Set 4 | bredasdorp\n",
      "Processing Record 49 of Set 4 | comodoro rivadavia\n",
      "Processing Record 50 of Set 4 | lucea\n",
      "Processing Record 0 of Set 5 | kapaa\n",
      "Processing Record 1 of Set 5 | makakilo city\n",
      "Processing Record 2 of Set 5 | port hedland\n",
      "Processing Record 3 of Set 5 | shieli\n",
      "Processing Record 4 of Set 5 | diffa\n",
      "Processing Record 5 of Set 5 | odessa\n",
      "Processing Record 6 of Set 5 | beringovskiy\n",
      "Processing Record 7 of Set 5 | hambantota\n",
      "Processing Record 8 of Set 5 | tuktoyaktuk\n",
      "Processing Record 9 of Set 5 | brae\n",
      "Processing Record 10 of Set 5 | marau\n",
      "Processing Record 11 of Set 5 | port hardy\n",
      "Processing Record 12 of Set 5 | yanam\n",
      "belushya guba not found. Skipping...\n",
      "Processing Record 13 of Set 5 | flinders\n",
      "buqayq not found. Skipping...\n",
      "Processing Record 14 of Set 5 | monterey\n",
      "Processing Record 15 of Set 5 | xinzhou\n",
      "Processing Record 16 of Set 5 | richards bay\n",
      "Processing Record 17 of Set 5 | jalu\n",
      "Processing Record 18 of Set 5 | henties bay\n",
      "Processing Record 19 of Set 5 | miaga\n",
      "Processing Record 20 of Set 5 | lazaro cardenas\n",
      "Processing Record 21 of Set 5 | port said\n",
      "Processing Record 22 of Set 5 | peking\n",
      "Processing Record 23 of Set 5 | kaitangata\n",
      "Processing Record 24 of Set 5 | aksay\n",
      "Processing Record 25 of Set 5 | adamovka\n",
      "Processing Record 26 of Set 5 | lata\n",
      "Processing Record 27 of Set 5 | ust-barguzin\n",
      "Processing Record 28 of Set 5 | torbay\n",
      "Processing Record 29 of Set 5 | balykshi\n",
      "Processing Record 30 of Set 5 | tyret pervaya\n",
      "meyungs not found. Skipping...\n",
      "Processing Record 31 of Set 5 | korla\n",
      "Processing Record 32 of Set 5 | skelleftea\n",
      "Processing Record 33 of Set 5 | nanortalik\n",
      "Processing Record 34 of Set 5 | omsukchan\n",
      "Processing Record 35 of Set 5 | timizart\n",
      "Processing Record 36 of Set 5 | margate\n",
      "Processing Record 37 of Set 5 | kapit\n",
      "Processing Record 38 of Set 5 | shu\n",
      "Processing Record 39 of Set 5 | estrela\n",
      "Processing Record 40 of Set 5 | mareeba\n",
      "Processing Record 41 of Set 5 | ulladulla\n",
      "tsihombe not found. Skipping...\n",
      "Processing Record 42 of Set 5 | airai\n",
      "Processing Record 43 of Set 5 | soe\n",
      "Processing Record 44 of Set 5 | maralal\n",
      "Processing Record 45 of Set 5 | okhotsk\n",
      "lolua not found. Skipping...\n",
      "Processing Record 46 of Set 5 | tiksi\n",
      "Processing Record 47 of Set 5 | bulancak\n",
      "Processing Record 48 of Set 5 | sao joao da barra\n",
      "Processing Record 49 of Set 5 | oppdal\n",
      "Processing Record 50 of Set 5 | nara\n",
      "Processing Record 0 of Set 6 | high prairie\n",
      "Processing Record 1 of Set 6 | cidreira\n",
      "tawkar not found. Skipping...\n",
      "Processing Record 2 of Set 6 | felipe carrillo puerto\n",
      "Processing Record 3 of Set 6 | maceio\n",
      "Processing Record 4 of Set 6 | chernyshevskiy\n",
      "Processing Record 5 of Set 6 | myre\n",
      "Processing Record 6 of Set 6 | sorong\n",
      "Processing Record 7 of Set 6 | hamilton\n",
      "Processing Record 8 of Set 6 | innisfail\n",
      "Processing Record 9 of Set 6 | bani\n",
      "Processing Record 10 of Set 6 | lorengau\n",
      "Processing Record 11 of Set 6 | oussouye\n",
      "Processing Record 12 of Set 6 | domoni\n",
      "uroteppa not found. Skipping...\n",
      "Processing Record 13 of Set 6 | bonfim\n",
      "Processing Record 14 of Set 6 | florence\n",
      "louisbourg not found. Skipping...\n",
      "Processing Record 15 of Set 6 | poykovskiy\n",
      "Processing Record 16 of Set 6 | japura\n",
      "Processing Record 17 of Set 6 | dubbo\n",
      "Processing Record 18 of Set 6 | bandarbeyla\n",
      "Processing Record 19 of Set 6 | karaton\n",
      "Processing Record 20 of Set 6 | ziarat\n",
      "Processing Record 21 of Set 6 | mitu\n",
      "Processing Record 22 of Set 6 | nouadhibou\n",
      "Processing Record 23 of Set 6 | joigny\n",
      "Processing Record 24 of Set 6 | yablonovo\n",
      "Processing Record 25 of Set 6 | bethel\n",
      "Processing Record 26 of Set 6 | husavik\n",
      "Processing Record 27 of Set 6 | slave lake\n",
      "Processing Record 28 of Set 6 | saint-pierre\n",
      "Processing Record 29 of Set 6 | puerto madryn\n",
      "Processing Record 30 of Set 6 | stephenville\n",
      "Processing Record 31 of Set 6 | arraial do cabo\n",
      "palabuhanratu not found. Skipping...\n",
      "Processing Record 32 of Set 6 | bintulu\n",
      "Processing Record 33 of Set 6 | bacalar\n",
      "Processing Record 34 of Set 6 | lejanias\n",
      "Processing Record 35 of Set 6 | springdale\n",
      "Processing Record 36 of Set 6 | maxixe\n",
      "Processing Record 37 of Set 6 | hirara\n",
      "Processing Record 38 of Set 6 | souillac\n",
      "Processing Record 39 of Set 6 | kaliua\n",
      "Processing Record 40 of Set 6 | nenjiang\n",
      "Processing Record 41 of Set 6 | lucapa\n",
      "Processing Record 42 of Set 6 | touros\n",
      "Processing Record 43 of Set 6 | arman\n",
      "Processing Record 44 of Set 6 | namibe\n",
      "Processing Record 45 of Set 6 | ribeira brava\n",
      "Processing Record 46 of Set 6 | hoquiam\n",
      "Processing Record 47 of Set 6 | portland\n",
      "Processing Record 48 of Set 6 | deputatskiy\n",
      "Processing Record 49 of Set 6 | savinka\n",
      "Processing Record 50 of Set 6 | plouzane\n",
      "Processing Record 0 of Set 7 | uvat\n",
      "Processing Record 1 of Set 7 | ozerna\n",
      "Processing Record 2 of Set 7 | maningrida\n",
      "Processing Record 3 of Set 7 | tuatapere\n",
      "Processing Record 4 of Set 7 | leningradskiy\n",
      "Processing Record 5 of Set 7 | labuhan\n",
      "Processing Record 6 of Set 7 | puerto escondido\n",
      "Processing Record 7 of Set 7 | dunmore town\n",
      "Processing Record 8 of Set 7 | yulara\n",
      "Processing Record 9 of Set 7 | chuy\n",
      "Processing Record 10 of Set 7 | turukhansk\n",
      "Processing Record 11 of Set 7 | sorland\n",
      "Processing Record 12 of Set 7 | asfi\n",
      "Processing Record 13 of Set 7 | ust-nera\n",
      "cagayan de tawi-tawi not found. Skipping...\n",
      "Processing Record 14 of Set 7 | ucluelet\n",
      "Processing Record 15 of Set 7 | katsuura\n",
      "Processing Record 16 of Set 7 | axim\n",
      "Processing Record 17 of Set 7 | san carlos de bariloche\n",
      "Processing Record 18 of Set 7 | elko\n",
      "Processing Record 19 of Set 7 | erzin\n",
      "Processing Record 20 of Set 7 | mangrol\n",
      "Processing Record 21 of Set 7 | villa del rosario\n",
      "Processing Record 22 of Set 7 | tessalit\n",
      "mrirt not found. Skipping...\n",
      "cumaribo not found. Skipping...\n",
      "Processing Record 23 of Set 7 | kaka\n",
      "lephepe not found. Skipping...\n",
      "Processing Record 24 of Set 7 | gramsh\n",
      "Processing Record 25 of Set 7 | sao lourenco do oeste\n",
      "Processing Record 26 of Set 7 | benicarlo\n",
      "Processing Record 27 of Set 7 | namatanai\n",
      "Processing Record 28 of Set 7 | kaniama\n",
      "Processing Record 29 of Set 7 | viborg\n",
      "Processing Record 30 of Set 7 | andilamena\n",
      "Processing Record 31 of Set 7 | imperial beach\n",
      "Processing Record 32 of Set 7 | kayanga\n",
      "Processing Record 33 of Set 7 | sechura\n",
      "Processing Record 34 of Set 7 | saskylakh\n",
      "Processing Record 35 of Set 7 | skjervoy\n",
      "Processing Record 36 of Set 7 | tambo grande\n",
      "Processing Record 37 of Set 7 | sur\n",
      "Processing Record 38 of Set 7 | kavieng\n",
      "Processing Record 39 of Set 7 | los llanos de aridane\n",
      "Processing Record 40 of Set 7 | acarau\n",
      "Processing Record 41 of Set 7 | bathsheba\n",
      "Processing Record 42 of Set 7 | olga\n",
      "Processing Record 43 of Set 7 | lumphat\n",
      "Processing Record 44 of Set 7 | temir\n",
      "Processing Record 45 of Set 7 | constitucion\n",
      "Processing Record 46 of Set 7 | cabra\n",
      "Processing Record 47 of Set 7 | liwale\n",
      "Processing Record 48 of Set 7 | ambilobe\n",
      "Processing Record 49 of Set 7 | guangyuan\n",
      "Processing Record 50 of Set 7 | eydhafushi\n",
      "Processing Record 0 of Set 8 | paamiut\n",
      "Processing Record 1 of Set 8 | vizinga\n",
      "Processing Record 2 of Set 8 | leh\n",
      "Processing Record 3 of Set 8 | primorsk\n",
      "Processing Record 4 of Set 8 | anadyr\n",
      "umzimvubu not found. Skipping...\n",
      "Processing Record 5 of Set 8 | carnarvon\n",
      "Processing Record 6 of Set 8 | ostersund\n",
      "Processing Record 7 of Set 8 | santa maria\n",
      "Processing Record 8 of Set 8 | opuwo\n",
      "Processing Record 9 of Set 8 | padang\n",
      "Processing Record 10 of Set 8 | mumford\n",
      "Processing Record 11 of Set 8 | poum\n",
      "Processing Record 12 of Set 8 | giyon\n",
      "Processing Record 13 of Set 8 | magadan\n",
      "Processing Record 14 of Set 8 | rawson\n",
      "Processing Record 15 of Set 8 | egvekinot\n",
      "Processing Record 16 of Set 8 | ikungi\n"
     ]
    },
    {
     "name": "stdout",
     "output_type": "stream",
     "text": [
      "Processing Record 17 of Set 8 | lamu\n",
      "Processing Record 18 of Set 8 | barranca\n",
      "Processing Record 19 of Set 8 | maues\n",
      "Processing Record 20 of Set 8 | coihaique\n",
      "Processing Record 21 of Set 8 | taixing\n",
      "Processing Record 22 of Set 8 | gambela\n",
      "Processing Record 23 of Set 8 | mbanza-ngungu\n",
      "Processing Record 24 of Set 8 | bonavista\n",
      "Processing Record 25 of Set 8 | ryotsu\n",
      "karaul not found. Skipping...\n",
      "vestbygda not found. Skipping...\n",
      "Processing Record 26 of Set 8 | college\n",
      "saleaula not found. Skipping...\n",
      "Processing Record 27 of Set 8 | mehamn\n",
      "Processing Record 28 of Set 8 | sinazongwe\n",
      "Processing Record 29 of Set 8 | rafaela\n",
      "Processing Record 30 of Set 8 | adrar\n",
      "Processing Record 31 of Set 8 | nome\n",
      "Processing Record 32 of Set 8 | ossora\n",
      "ahumada not found. Skipping...\n",
      "Processing Record 33 of Set 8 | kutum\n",
      "Processing Record 34 of Set 8 | gazli\n",
      "Processing Record 35 of Set 8 | iwanai\n",
      "Processing Record 36 of Set 8 | kalmunai\n",
      "Processing Record 37 of Set 8 | cairns\n",
      "Processing Record 38 of Set 8 | medvezhyegorsk\n",
      "Processing Record 39 of Set 8 | waipawa\n",
      "satitoa not found. Skipping...\n",
      "Processing Record 40 of Set 8 | flums\n",
      "barbar not found. Skipping...\n",
      "Processing Record 41 of Set 8 | vaitape\n",
      "Processing Record 42 of Set 8 | ilulissat\n",
      "macaboboni not found. Skipping...\n",
      "Processing Record 43 of Set 8 | stornoway\n",
      "Processing Record 44 of Set 8 | omboue\n",
      "Processing Record 45 of Set 8 | berezovyy\n",
      "Processing Record 46 of Set 8 | ilheus\n",
      "Processing Record 47 of Set 8 | marzuq\n",
      "Processing Record 48 of Set 8 | ixtapa\n",
      "Processing Record 49 of Set 8 | pirna\n",
      "urdzhar not found. Skipping...\n",
      "Processing Record 50 of Set 8 | armidale\n",
      "Processing Record 0 of Set 9 | felanitx\n",
      "Processing Record 1 of Set 9 | ape\n",
      "Processing Record 2 of Set 9 | solhan\n",
      "Processing Record 3 of Set 9 | maniitsoq\n",
      "Processing Record 4 of Set 9 | marawi\n",
      "Processing Record 5 of Set 9 | shimoda\n",
      "Processing Record 6 of Set 9 | loudeac\n",
      "Processing Record 7 of Set 9 | gimli\n",
      "Processing Record 8 of Set 9 | puro\n",
      "Processing Record 9 of Set 9 | aras\n",
      "Processing Record 10 of Set 9 | calbuco\n",
      "Processing Record 11 of Set 9 | makubetsu\n",
      "Processing Record 12 of Set 9 | darhan\n",
      "Processing Record 13 of Set 9 | gualeguay\n",
      "makung not found. Skipping...\n",
      "Processing Record 14 of Set 9 | rio negrinho\n",
      "Processing Record 15 of Set 9 | pacific grove\n",
      "Processing Record 16 of Set 9 | englehart\n",
      "Processing Record 17 of Set 9 | santa lucia\n",
      "Processing Record 18 of Set 9 | cumana\n",
      "Processing Record 19 of Set 9 | mehran\n",
      "Processing Record 20 of Set 9 | san quintin\n",
      "Processing Record 21 of Set 9 | vila velha\n",
      "sorvag not found. Skipping...\n",
      "Processing Record 22 of Set 9 | itoman\n",
      "Processing Record 23 of Set 9 | huntington\n",
      "samusu not found. Skipping...\n",
      "Processing Record 24 of Set 9 | tooele\n",
      "Processing Record 25 of Set 9 | rudnya\n",
      "Processing Record 26 of Set 9 | murgab\n",
      "Processing Record 27 of Set 9 | jacksonville\n",
      "Processing Record 28 of Set 9 | miramar\n",
      "Processing Record 29 of Set 9 | nevers\n",
      "Processing Record 30 of Set 9 | ballina\n",
      "Processing Record 31 of Set 9 | ler\n",
      "Processing Record 32 of Set 9 | kiama\n",
      "Processing Record 33 of Set 9 | olafsvik\n",
      "Processing Record 34 of Set 9 | atambua\n",
      "Processing Record 35 of Set 9 | mogadishu\n",
      "Processing Record 36 of Set 9 | abu dhabi\n",
      "Processing Record 37 of Set 9 | hlotse\n",
      "Processing Record 38 of Set 9 | londoko\n",
      "Processing Record 39 of Set 9 | ostrovnoy\n",
      "Processing Record 40 of Set 9 | kloulklubed\n",
      "vaitupu not found. Skipping...\n",
      "Processing Record 41 of Set 9 | bhabua\n",
      "Processing Record 42 of Set 9 | khash\n",
      "Processing Record 43 of Set 9 | mantua\n",
      "temaraia not found. Skipping...\n",
      "Processing Record 44 of Set 9 | ariogala\n",
      "safwah not found. Skipping...\n",
      "Processing Record 45 of Set 9 | kardla\n",
      "Processing Record 46 of Set 9 | dwarka\n",
      "sinkat not found. Skipping...\n",
      "Processing Record 47 of Set 9 | koumac\n",
      "Processing Record 48 of Set 9 | svetlaya\n",
      "Processing Record 49 of Set 9 | havre-saint-pierre\n",
      "Processing Record 50 of Set 9 | tomatlan\n",
      "Processing Record 0 of Set 10 | houma\n",
      "Processing Record 1 of Set 10 | quatre cocos\n",
      "Processing Record 2 of Set 10 | lanigan\n",
      "Processing Record 3 of Set 10 | srednekolymsk\n",
      "ust-kamchatsk not found. Skipping...\n",
      "Processing Record 4 of Set 10 | petropavlovsk-kamchatskiy\n",
      "Processing Record 5 of Set 10 | lusambo\n",
      "Processing Record 6 of Set 10 | port moresby\n",
      "Processing Record 7 of Set 10 | porto novo\n",
      "Processing Record 8 of Set 10 | tabou\n",
      "Processing Record 9 of Set 10 | nioro\n",
      "Processing Record 10 of Set 10 | mayumba\n",
      "Processing Record 11 of Set 10 | tripoli\n",
      "Processing Record 12 of Set 10 | palampur\n",
      "Processing Record 13 of Set 10 | kuching\n",
      "bacuit not found. Skipping...\n",
      "Processing Record 14 of Set 10 | monrovia\n",
      "Processing Record 15 of Set 10 | canavieiras\n",
      "Processing Record 16 of Set 10 | taoudenni\n",
      "Processing Record 17 of Set 10 | zaysan\n",
      "Processing Record 18 of Set 10 | belmonte\n",
      "Processing Record 19 of Set 10 | young\n",
      "Processing Record 20 of Set 10 | huarmey\n",
      "Processing Record 21 of Set 10 | zomba\n",
      "taburi not found. Skipping...\n",
      "Processing Record 22 of Set 10 | bratsk\n",
      "Processing Record 23 of Set 10 | kingaroy\n",
      "Processing Record 24 of Set 10 | prudentopolis\n",
      "kusk not found. Skipping...\n",
      "Processing Record 25 of Set 10 | placido de castro\n",
      "Processing Record 26 of Set 10 | najran\n",
      "Processing Record 27 of Set 10 | nicoya\n",
      "Processing Record 28 of Set 10 | sompeta\n",
      "Processing Record 29 of Set 10 | eidfjord\n",
      "Processing Record 30 of Set 10 | hun\n",
      "Processing Record 31 of Set 10 | lavrentiya\n",
      "Processing Record 32 of Set 10 | naze\n",
      "tasbuget not found. Skipping...\n",
      "Processing Record 33 of Set 10 | pedernales\n",
      "Processing Record 34 of Set 10 | jasper\n",
      "Processing Record 35 of Set 10 | fallon\n",
      "Processing Record 36 of Set 10 | grindavik\n",
      "Processing Record 37 of Set 10 | sulphur\n",
      "wahran not found. Skipping...\n",
      "Processing Record 38 of Set 10 | christchurch\n",
      "Processing Record 39 of Set 10 | linqu\n",
      "Processing Record 40 of Set 10 | borskoye\n",
      "Processing Record 41 of Set 10 | rehoboth\n",
      "Processing Record 42 of Set 10 | broome\n",
      "Processing Record 43 of Set 10 | ashdod\n",
      "Processing Record 44 of Set 10 | solnechnyy\n",
      "Processing Record 45 of Set 10 | bela\n",
      "Processing Record 46 of Set 10 | kolokani\n",
      "Processing Record 47 of Set 10 | coquimbo\n",
      "Processing Record 48 of Set 10 | motygino\n",
      "Processing Record 49 of Set 10 | kenai\n",
      "Processing Record 50 of Set 10 | sol-iletsk\n",
      "Processing Record 0 of Set 11 | nador\n",
      "Processing Record 1 of Set 11 | tautira\n",
      "Processing Record 2 of Set 11 | santo antonio do ica\n",
      "Processing Record 3 of Set 11 | vung tau\n",
      "Processing Record 4 of Set 11 | plover\n",
      "Processing Record 5 of Set 11 | ngunguru\n",
      "Processing Record 6 of Set 11 | tateyama\n",
      "Processing Record 7 of Set 11 | port blair\n",
      "Processing Record 8 of Set 11 | tifton\n",
      "Processing Record 9 of Set 11 | sarakhs\n",
      "Processing Record 10 of Set 11 | veere\n",
      "Processing Record 11 of Set 11 | teacapan\n",
      "Processing Record 12 of Set 11 | qostanay\n",
      "Processing Record 13 of Set 11 | yerbogachen\n",
      "Processing Record 14 of Set 11 | poyarkovo\n",
      "Processing Record 15 of Set 11 | mazamari\n",
      "Processing Record 16 of Set 11 | ust-kulom\n",
      "Processing Record 17 of Set 11 | sokoni\n",
      "Processing Record 18 of Set 11 | belyy yar\n",
      "Processing Record 19 of Set 11 | ambon\n",
      "hunza not found. Skipping...\n",
      "Processing Record 20 of Set 11 | chicama\n",
      "Processing Record 21 of Set 11 | ugoofaaru\n",
      "Processing Record 22 of Set 11 | viedma\n",
      "Processing Record 23 of Set 11 | hasaki\n",
      "longlac not found. Skipping...\n",
      "Processing Record 24 of Set 11 | malpe\n",
      "Processing Record 25 of Set 11 | dafeng\n",
      "Processing Record 26 of Set 11 | jumla\n",
      "Processing Record 27 of Set 11 | yatou\n",
      "Processing Record 28 of Set 11 | varciorog\n",
      "Processing Record 29 of Set 11 | praya\n",
      "Processing Record 30 of Set 11 | dongning\n",
      "tumannyy not found. Skipping...\n",
      "Processing Record 31 of Set 11 | panaba\n",
      "Processing Record 32 of Set 11 | swinoujscie\n",
      "Processing Record 33 of Set 11 | bolobo\n",
      "Processing Record 34 of Set 11 | nchelenge\n",
      "Processing Record 35 of Set 11 | dingle\n",
      "Processing Record 36 of Set 11 | grong\n",
      "Processing Record 37 of Set 11 | waling\n",
      "Processing Record 38 of Set 11 | mashhad\n",
      "Processing Record 39 of Set 11 | eirunepe\n",
      "Processing Record 40 of Set 11 | kassel\n",
      "Processing Record 41 of Set 11 | muisne\n",
      "Processing Record 42 of Set 11 | pozoblanco\n",
      "Processing Record 43 of Set 11 | alasehir\n",
      "navabad not found. Skipping...\n",
      "Processing Record 44 of Set 11 | liangxiang\n",
      "Processing Record 45 of Set 11 | nagayo\n"
     ]
    },
    {
     "name": "stdout",
     "output_type": "stream",
     "text": [
      "Processing Record 46 of Set 11 | puerto colombia\n"
     ]
    }
   ],
   "source": [
    "# set up lists to hold reponse info\n",
    "city_list = []\n",
    "country = []\n",
    "lat = []\n",
    "lng = []\n",
    "max_temp =[]\n",
    "humidity = []\n",
    "cloudiness = []\n",
    "wind_speed = []\n",
    "\n",
    "count = 0\n",
    "set_num = 1\n",
    "\n",
    "\n",
    "# Loop through the list of cities and perform a request for data on each\n",
    "for city in cities:\n",
    "    try:\n",
    "        response = requests.get(query_url + city) \n",
    "        response = response.json()\n",
    "        city_list.append(response['name'])\n",
    "        country.append(response['sys']['country'])\n",
    "        lat.append(response['coord']['lat'])\n",
    "        lng.append(response['coord']['lon'])\n",
    "        max_temp.append(response['main']['temp_max'])\n",
    "        humidity.append(response['main']['humidity'])\n",
    "        cloudiness.append(response['clouds']['all'])\n",
    "        wind_speed.append(response['wind']['speed'])\n",
    "\n",
    "        if count > 49:\n",
    "            count = 0\n",
    "            set_num = set_num + 1\n",
    "        else:\n",
    "            count = count +1   \n",
    "        print(f\"Processing Record {count} of Set {set_num} | {city}\")\n",
    "    except:\n",
    "        print(f\"{city} not found. Skipping...\")\n"
   ]
  },
  {
   "cell_type": "markdown",
   "metadata": {},
   "source": [
    "### Convert Raw Data to DataFrame\n",
    "* Export the city data into a .csv.\n",
    "* Display the DataFrame"
   ]
  },
  {
   "cell_type": "code",
   "execution_count": 5,
   "metadata": {},
   "outputs": [
    {
     "data": {
      "text/html": [
       "<div>\n",
       "<style scoped>\n",
       "    .dataframe tbody tr th:only-of-type {\n",
       "        vertical-align: middle;\n",
       "    }\n",
       "\n",
       "    .dataframe tbody tr th {\n",
       "        vertical-align: top;\n",
       "    }\n",
       "\n",
       "    .dataframe thead th {\n",
       "        text-align: right;\n",
       "    }\n",
       "</style>\n",
       "<table border=\"1\" class=\"dataframe\">\n",
       "  <thead>\n",
       "    <tr style=\"text-align: right;\">\n",
       "      <th></th>\n",
       "      <th>city_name</th>\n",
       "      <th>country</th>\n",
       "      <th>latitude</th>\n",
       "      <th>longitude</th>\n",
       "      <th>max_temperature</th>\n",
       "      <th>humidity</th>\n",
       "      <th>cloudiness</th>\n",
       "      <th>wind speed</th>\n",
       "    </tr>\n",
       "  </thead>\n",
       "  <tbody>\n",
       "    <tr>\n",
       "      <th>0</th>\n",
       "      <td>La Ronge</td>\n",
       "      <td>CA</td>\n",
       "      <td>55.1001</td>\n",
       "      <td>-105.2842</td>\n",
       "      <td>0.25</td>\n",
       "      <td>74</td>\n",
       "      <td>100</td>\n",
       "      <td>3.64</td>\n",
       "    </tr>\n",
       "    <tr>\n",
       "      <th>1</th>\n",
       "      <td>Kodinsk</td>\n",
       "      <td>RU</td>\n",
       "      <td>58.6881</td>\n",
       "      <td>99.1844</td>\n",
       "      <td>-1.65</td>\n",
       "      <td>89</td>\n",
       "      <td>99</td>\n",
       "      <td>2.75</td>\n",
       "    </tr>\n",
       "    <tr>\n",
       "      <th>2</th>\n",
       "      <td>Port Alfred</td>\n",
       "      <td>ZA</td>\n",
       "      <td>-33.5906</td>\n",
       "      <td>26.8910</td>\n",
       "      <td>13.99</td>\n",
       "      <td>76</td>\n",
       "      <td>100</td>\n",
       "      <td>2.68</td>\n",
       "    </tr>\n",
       "    <tr>\n",
       "      <th>3</th>\n",
       "      <td>Coahuayana Viejo</td>\n",
       "      <td>MX</td>\n",
       "      <td>18.7333</td>\n",
       "      <td>-103.6833</td>\n",
       "      <td>24.17</td>\n",
       "      <td>66</td>\n",
       "      <td>41</td>\n",
       "      <td>1.85</td>\n",
       "    </tr>\n",
       "    <tr>\n",
       "      <th>4</th>\n",
       "      <td>Ushuaia</td>\n",
       "      <td>AR</td>\n",
       "      <td>-54.8000</td>\n",
       "      <td>-68.3000</td>\n",
       "      <td>2.23</td>\n",
       "      <td>88</td>\n",
       "      <td>60</td>\n",
       "      <td>1.36</td>\n",
       "    </tr>\n",
       "    <tr>\n",
       "      <th>...</th>\n",
       "      <td>...</td>\n",
       "      <td>...</td>\n",
       "      <td>...</td>\n",
       "      <td>...</td>\n",
       "      <td>...</td>\n",
       "      <td>...</td>\n",
       "      <td>...</td>\n",
       "      <td>...</td>\n",
       "    </tr>\n",
       "    <tr>\n",
       "      <th>551</th>\n",
       "      <td>Pozoblanco</td>\n",
       "      <td>ES</td>\n",
       "      <td>38.3791</td>\n",
       "      <td>-4.8483</td>\n",
       "      <td>6.89</td>\n",
       "      <td>77</td>\n",
       "      <td>13</td>\n",
       "      <td>0.67</td>\n",
       "    </tr>\n",
       "    <tr>\n",
       "      <th>552</th>\n",
       "      <td>Alaşehir</td>\n",
       "      <td>TR</td>\n",
       "      <td>38.3508</td>\n",
       "      <td>28.5172</td>\n",
       "      <td>15.53</td>\n",
       "      <td>53</td>\n",
       "      <td>62</td>\n",
       "      <td>1.39</td>\n",
       "    </tr>\n",
       "    <tr>\n",
       "      <th>553</th>\n",
       "      <td>Liangxiang</td>\n",
       "      <td>CN</td>\n",
       "      <td>39.7319</td>\n",
       "      <td>116.1400</td>\n",
       "      <td>19.91</td>\n",
       "      <td>48</td>\n",
       "      <td>100</td>\n",
       "      <td>2.03</td>\n",
       "    </tr>\n",
       "    <tr>\n",
       "      <th>554</th>\n",
       "      <td>Nagayo</td>\n",
       "      <td>JP</td>\n",
       "      <td>32.8242</td>\n",
       "      <td>129.8861</td>\n",
       "      <td>17.64</td>\n",
       "      <td>100</td>\n",
       "      <td>75</td>\n",
       "      <td>2.57</td>\n",
       "    </tr>\n",
       "    <tr>\n",
       "      <th>555</th>\n",
       "      <td>Puerto Colombia</td>\n",
       "      <td>CO</td>\n",
       "      <td>10.9878</td>\n",
       "      <td>-74.9547</td>\n",
       "      <td>28.05</td>\n",
       "      <td>81</td>\n",
       "      <td>20</td>\n",
       "      <td>9.81</td>\n",
       "    </tr>\n",
       "  </tbody>\n",
       "</table>\n",
       "<p>556 rows × 8 columns</p>\n",
       "</div>"
      ],
      "text/plain": [
       "            city_name country  latitude  longitude  max_temperature  humidity  \\\n",
       "0            La Ronge      CA   55.1001  -105.2842             0.25        74   \n",
       "1             Kodinsk      RU   58.6881    99.1844            -1.65        89   \n",
       "2         Port Alfred      ZA  -33.5906    26.8910            13.99        76   \n",
       "3    Coahuayana Viejo      MX   18.7333  -103.6833            24.17        66   \n",
       "4             Ushuaia      AR  -54.8000   -68.3000             2.23        88   \n",
       "..                ...     ...       ...        ...              ...       ...   \n",
       "551        Pozoblanco      ES   38.3791    -4.8483             6.89        77   \n",
       "552          Alaşehir      TR   38.3508    28.5172            15.53        53   \n",
       "553        Liangxiang      CN   39.7319   116.1400            19.91        48   \n",
       "554            Nagayo      JP   32.8242   129.8861            17.64       100   \n",
       "555   Puerto Colombia      CO   10.9878   -74.9547            28.05        81   \n",
       "\n",
       "     cloudiness  wind speed  \n",
       "0           100        3.64  \n",
       "1            99        2.75  \n",
       "2           100        2.68  \n",
       "3            41        1.85  \n",
       "4            60        1.36  \n",
       "..          ...         ...  \n",
       "551          13        0.67  \n",
       "552          62        1.39  \n",
       "553         100        2.03  \n",
       "554          75        2.57  \n",
       "555          20        9.81  \n",
       "\n",
       "[556 rows x 8 columns]"
      ]
     },
     "execution_count": 5,
     "metadata": {},
     "output_type": "execute_result"
    }
   ],
   "source": [
    "# create dictionary to pass into DataFrame\n",
    "city_dict = {\n",
    "    'city_name': city_list,\n",
    "    'country':country,\n",
    "    'latitude': lat,\n",
    "    'longitude': lng,\n",
    "    'max_temperature': max_temp,\n",
    "    'humidity': humidity,\n",
    "    'cloudiness': cloudiness,\n",
    "    'wind speed': wind_speed,\n",
    "}\n",
    "\n",
    "# # # # create DataFrame from dictionary\n",
    "city_df = pd.DataFrame(city_dict)\n",
    "city_df"
   ]
  },
  {
   "cell_type": "code",
   "execution_count": 6,
   "metadata": {},
   "outputs": [],
   "source": [
    "city_df.to_csv('WeatherPy_outputs\\city_df.csv', index=False)"
   ]
  },
  {
   "cell_type": "code",
   "execution_count": 7,
   "metadata": {},
   "outputs": [
    {
     "data": {
      "text/plain": [
       "city_name          556\n",
       "country            556\n",
       "latitude           556\n",
       "longitude          556\n",
       "max_temperature    556\n",
       "humidity           556\n",
       "cloudiness         556\n",
       "wind speed         556\n",
       "dtype: int64"
      ]
     },
     "execution_count": 7,
     "metadata": {},
     "output_type": "execute_result"
    }
   ],
   "source": [
    "city_df.count()"
   ]
  },
  {
   "cell_type": "markdown",
   "metadata": {},
   "source": [
    "## Inspect the data and remove the cities where the humidity > 100%.\n",
    "----\n",
    "Skip this step if there are no cities that have humidity > 100%. "
   ]
  },
  {
   "cell_type": "code",
   "execution_count": 8,
   "metadata": {
    "scrolled": true
   },
   "outputs": [
    {
     "data": {
      "text/plain": [
       "city_name          556\n",
       "country            556\n",
       "latitude           556\n",
       "longitude          556\n",
       "max_temperature    556\n",
       "humidity           556\n",
       "cloudiness         556\n",
       "wind speed         556\n",
       "dtype: int64"
      ]
     },
     "execution_count": 8,
     "metadata": {},
     "output_type": "execute_result"
    }
   ],
   "source": [
    "# Create a clean DataFrame by dropping the cities where humidity > 100%\n",
    "city_clean = city_df.loc[city_df['humidity'] <= 100, :]\n",
    "city_clean.head()\n",
    "city_clean.count()"
   ]
  },
  {
   "cell_type": "code",
   "execution_count": 9,
   "metadata": {},
   "outputs": [],
   "source": [
    "#  Get the indices of cities that have humidity over 100%.\n",
    "#skip this step if no cities are over 100%"
   ]
  },
  {
   "cell_type": "code",
   "execution_count": 10,
   "metadata": {},
   "outputs": [],
   "source": [
    "# Make a new DataFrame equal to the city data to drop all humidity outliers by index.\n",
    "# Passing \"inplace=False\" will make a copy of the city_data DataFrame, which we call \"clean_city_data\".\n"
   ]
  },
  {
   "cell_type": "markdown",
   "metadata": {},
   "source": [
    "## Plotting the Data\n",
    "* Use proper labeling of the plots using plot titles (including date of analysis) and axes labels.\n",
    "* Save the plotted figures as .pngs."
   ]
  },
  {
   "cell_type": "markdown",
   "metadata": {},
   "source": [
    "## Latitude vs. Temperature Plot"
   ]
  },
  {
   "cell_type": "code",
   "execution_count": 11,
   "metadata": {
    "scrolled": true
   },
   "outputs": [
    {
     "data": {
      "image/png": "[encoded data removed]",
      "text/plain": [
       "<Figure size 432x288 with 1 Axes>"
      ]
     },
     "metadata": {
      "needs_background": "light"
     },
     "output_type": "display_data"
    }
   ],
   "source": [
    "plt.scatter(city_clean[\"latitude\"],city_clean[\"max_temperature\"],edgecolors=\"black\",facecolors=\"skyblue\")\n",
    "plt.title(\"City Latitude vs. Max Temperature\")\n",
    "plt.xlabel(\"Latitude\")\n",
    "plt.ylabel(\"Max Temperature\")\n",
    "plt.grid (b=True,which=\"major\",axis=\"both\",linestyle=\"-\",color=\"grey\")\n",
    "plt.savefig(\"WeatherPy_outputs\\lat_temp.png\")\n",
    "plt.show()"
   ]
  },
  {
   "cell_type": "markdown",
   "metadata": {},
   "source": [
    "The graph shows that cities located closer to the equator do tend to have higher maximum temperatures. Interestingly, cities that are located eith +20 degrees or -20 degrees tend to have similar maximum temperatures as the equator. "
   ]
  },
  {
   "cell_type": "markdown",
   "metadata": {},
   "source": [
    "## Latitude vs. Humidity Plot"
   ]
  },
  {
   "cell_type": "code",
   "execution_count": 12,
   "metadata": {},
   "outputs": [
    {
     "data": {
      "image/png": "[encoded data removed]",
      "text/plain": [
       "<Figure size 432x288 with 1 Axes>"
      ]
     },
     "metadata": {
      "needs_background": "light"
     },
     "output_type": "display_data"
    }
   ],
   "source": [
    "plt.scatter(city_clean[\"latitude\"],city_clean[\"humidity\"],edgecolors=\"black\",facecolors=\"blue\")\n",
    "plt.title(\"City Latitude vs. Humidity\")\n",
    "plt.xlabel(\"Latitude\")\n",
    "plt.ylabel(\"Humidity (%)\")\n",
    "plt.ylim(15,105)\n",
    "plt.grid (b=True,which=\"major\",axis=\"both\",linestyle=\"-\",color=\"grey\")\n",
    "plt.savefig(\"WeatherPy_outputs\\lat_humidity.png\")\n",
    "plt.show()"
   ]
  },
  {
   "cell_type": "markdown",
   "metadata": {},
   "source": [
    "There is not a linear relationship between humidity and latitude. However, cities that are more than 60 degrees latitude have corresponding humidity levels of >= 50%, with a majority above 80% humidity. Of all cities in the sample population, a majority have humidity levels at least 50% or more. "
   ]
  },
  {
   "cell_type": "markdown",
   "metadata": {},
   "source": [
    "## Latitude vs. Cloudiness Plot"
   ]
  },
  {
   "cell_type": "code",
   "execution_count": 13,
   "metadata": {},
   "outputs": [
    {
     "data": {
      "image/png": "[encoded data removed]",
      "text/plain": [
       "<Figure size 432x288 with 1 Axes>"
      ]
     },
     "metadata": {
      "needs_background": "light"
     },
     "output_type": "display_data"
    }
   ],
   "source": [
    "plt.scatter(city_clean[\"latitude\"],city_clean[\"cloudiness\"],edgecolors=\"black\",facecolors=\"blue\")\n",
    "plt.title(\"City Latitude vs. Cloudiness\")\n",
    "plt.xlabel(\"Latitude\")\n",
    "plt.ylabel(\"Cloudiness (%)\")\n",
    "plt.grid (b=True,which=\"major\",axis=\"both\",linestyle=\"-\",color=\"grey\")\n",
    "plt.savefig(\"WeatherPy_outputs\\lat_cloudiness.png\")\n",
    "plt.show()"
   ]
  },
  {
   "cell_type": "markdown",
   "metadata": {},
   "source": [
    "There is not a linear relationship between cloudiness and latitude.However, this is a large proportion of cities with cloudiness at 0% along -30 to -20 degrees latitude and 10 to 40 degrees latitude. There is also a large proportion of cities with cloudiness at 100% along -10 to 10 degrees latitude and 35 to 70 degrees latitude."
   ]
  },
  {
   "cell_type": "markdown",
   "metadata": {},
   "source": [
    "## Latitude vs. Wind Speed Plot"
   ]
  },
  {
   "cell_type": "code",
   "execution_count": 14,
   "metadata": {},
   "outputs": [
    {
     "data": {
      "image/png": "[encoded data removed]",
      "text/plain": [
       "<Figure size 432x288 with 1 Axes>"
      ]
     },
     "metadata": {
      "needs_background": "light"
     },
     "output_type": "display_data"
    }
   ],
   "source": [
    "plt.scatter(city_clean[\"latitude\"],city_clean[\"wind speed\"],edgecolors=\"black\",facecolors=\"blue\")\n",
    "plt.title(\"City Latitude vs. Wind Speed\")\n",
    "plt.xlabel(\"Latitude\")\n",
    "plt.ylabel(\"Wind Speed (mph)\")\n",
    "plt.ylim(-2,15)\n",
    "plt.grid (b=True,which=\"major\",axis=\"both\",linestyle=\"-\",color=\"grey\")\n",
    "plt.savefig(\"WeatherPy_outputs\\lat_windspeed.png\")\n",
    "plt.show()"
   ]
  },
  {
   "cell_type": "markdown",
   "metadata": {},
   "source": [
    "There is not a linear relationship between wind speed and latitude. The data is more clustered around 1-2 mph windspeed across cities at different latitudes. "
   ]
  },
  {
   "cell_type": "markdown",
   "metadata": {},
   "source": [
    "## Linear Regression"
   ]
  },
  {
   "cell_type": "code",
   "execution_count": 15,
   "metadata": {},
   "outputs": [],
   "source": [
    "#separate data into only northern hemisphere\n",
    "# Create a northern hemisphere DataFrame by only including cities where latitude >= 0 degrees\n",
    "northern_hem = city_clean.loc[city_clean['latitude'] > 0, :]\n",
    "#northern_hem"
   ]
  },
  {
   "cell_type": "code",
   "execution_count": 16,
   "metadata": {},
   "outputs": [],
   "source": [
    "#separate data into only northern hemisphere\n",
    "# Create a northern hemisphere DataFrame by only including cities where latitude < 0 degrees\n",
    "southern_hem = city_clean.loc[city_clean['latitude'] < 0, :]\n",
    "#southern_hem"
   ]
  },
  {
   "cell_type": "code",
   "execution_count": 17,
   "metadata": {},
   "outputs": [],
   "source": [
    "#create a function\n",
    "def plot_lin_reg(x_val,y_val,title,text_coordinates):\n",
    "    \n",
    "    # Run regression on Southern Hemisphere\n",
    "    (slope, intercept, rvalue, pvalue, stderr) = linregress (x_val,y_val)\n",
    "    regress_values = x_val * slope + intercept\n",
    "    line_eq = \"y = \" + str(round(slope,2)) + \" x + \" + str(round(intercept,2))\n",
    "    \n",
    "    # Plot\n",
    "    plt.scatter(x_val,y_val)\n",
    "    plt.plot(x_val, regress_values, \"r-\")\n",
    "    plt.annotate(line_eq,text_coordinates, fontsize=15, color=\"red\")\n",
    "    plt.xlabel(\"Latitude\")\n",
    "    plt.ylabel(title)\n",
    "    print(f\"The r-squared is: {str(round(rvalue,3))}\") \n",
    "    plt.show()"
   ]
  },
  {
   "cell_type": "markdown",
   "metadata": {},
   "source": [
    "####  Northern Hemisphere - Max Temp vs. Latitude Linear Regression"
   ]
  },
  {
   "cell_type": "code",
   "execution_count": 18,
   "metadata": {
    "scrolled": true
   },
   "outputs": [
    {
     "name": "stdout",
     "output_type": "stream",
     "text": [
      "The r-squared is: -0.888\n"
     ]
    },
    {
     "data": {
      "image/png": "[encoded data removed]",
      "text/plain": [
       "<Figure size 432x288 with 1 Axes>"
      ]
     },
     "metadata": {
      "needs_background": "light"
     },
     "output_type": "display_data"
    }
   ],
   "source": [
    "x_val = northern_hem[\"latitude\"]\n",
    "y_val = northern_hem[\"max_temperature\"]\n",
    "plot_lin_reg(x_val,y_val,'max_temperature', (6,30))"
   ]
  },
  {
   "cell_type": "markdown",
   "metadata": {},
   "source": [
    "There is a negative sloped relationship between max temperature and city latitude in the northern hemisphere, where the higher the latitude, the lower the maximum temperature. The r squared value indicates that the relationship between max tempearture and city latitude is quite strong. This graph confirms the established expectation that cities closer to the equator tend to be hotter, and cities farther from the equator tend to be colder."
   ]
  },
  {
   "cell_type": "markdown",
   "metadata": {},
   "source": [
    "####  Northern Hemisphere - Humidity (%) vs. Latitude Linear Regression"
   ]
  },
  {
   "cell_type": "code",
   "execution_count": 19,
   "metadata": {
    "scrolled": true
   },
   "outputs": [
    {
     "name": "stdout",
     "output_type": "stream",
     "text": [
      "The r-squared is: 0.226\n"
     ]
    },
    {
     "data": {
      "image/png": "[encoded data removed]",
      "text/plain": [
       "<Figure size 432x288 with 1 Axes>"
      ]
     },
     "metadata": {
      "needs_background": "light"
     },
     "output_type": "display_data"
    }
   ],
   "source": [
    "x_val = northern_hem[\"latitude\"]\n",
    "y_val = northern_hem[\"humidity\"]\n",
    "plot_lin_reg(x_val,y_val,'humidity', (6,30))"
   ]
  },
  {
   "cell_type": "markdown",
   "metadata": {},
   "source": [
    "There is a weak positive relationship between humidity and city latitude in the northern hemisphere. The weak relationship is confirmed with a small r-squared value."
   ]
  },
  {
   "cell_type": "markdown",
   "metadata": {},
   "source": [
    "####  Southern Hemisphere - Max Temp vs. Latitude Linear Regression"
   ]
  },
  {
   "cell_type": "code",
   "execution_count": 20,
   "metadata": {
    "scrolled": true
   },
   "outputs": [
    {
     "name": "stdout",
     "output_type": "stream",
     "text": [
      "The r-squared is: 0.683\n"
     ]
    },
    {
     "data": {
      "image/png": "[encoded data removed]",
      "text/plain": [
       "<Figure size 432x288 with 1 Axes>"
      ]
     },
     "metadata": {
      "needs_background": "light"
     },
     "output_type": "display_data"
    }
   ],
   "source": [
    "x_val = southern_hem[\"latitude\"]\n",
    "y_val = southern_hem[\"max_temperature\"]\n",
    "plot_lin_reg(x_val,y_val,'max_temperature', (6,30))"
   ]
  },
  {
   "cell_type": "markdown",
   "metadata": {},
   "source": [
    "There is a postive relationships between maximum temperature and latitude in the southern hemsiphere, where latitude closer to 0 degrees, or the equator, generally show a higher max city temperature. The r-squared value indicates that the relationship between max temperature and latitude is relatively strong. Additionally, the data reinforces the idea that cities tend to be warmer closer to the equator and colder further away."
   ]
  },
  {
   "cell_type": "markdown",
   "metadata": {},
   "source": [
    "####  Southern Hemisphere - Humidity (%) vs. Latitude Linear Regression"
   ]
  },
  {
   "cell_type": "code",
   "execution_count": 21,
   "metadata": {},
   "outputs": [
    {
     "name": "stdout",
     "output_type": "stream",
     "text": [
      "The r-squared is: 0.248\n"
     ]
    },
    {
     "data": {
      "image/png": "[encoded data removed]",
      "text/plain": [
       "<Figure size 432x288 with 1 Axes>"
      ]
     },
     "metadata": {
      "needs_background": "light"
     },
     "output_type": "display_data"
    }
   ],
   "source": [
    "x_val = southern_hem[\"latitude\"]\n",
    "y_val = southern_hem[\"humidity\"]\n",
    "plot_lin_reg(x_val,y_val,'humidity', (6,30))"
   ]
  },
  {
   "cell_type": "markdown",
   "metadata": {},
   "source": [
    "There is a weak positive relationship between humidity and latitude in the Southern Hemisphere, however, the data is widely dispersed."
   ]
  },
  {
   "cell_type": "markdown",
   "metadata": {},
   "source": [
    "####  Northern Hemisphere - Cloudiness (%) vs. Latitude Linear Regression"
   ]
  },
  {
   "cell_type": "code",
   "execution_count": 22,
   "metadata": {
    "scrolled": true
   },
   "outputs": [
    {
     "name": "stdout",
     "output_type": "stream",
     "text": [
      "The r-squared is: 0.265\n"
     ]
    },
    {
     "data": {
      "image/png": "[encoded data removed]",
      "text/plain": [
       "<Figure size 432x288 with 1 Axes>"
      ]
     },
     "metadata": {
      "needs_background": "light"
     },
     "output_type": "display_data"
    }
   ],
   "source": [
    "x_val = northern_hem[\"latitude\"]\n",
    "y_val = northern_hem[\"cloudiness\"]\n",
    "plot_lin_reg(x_val,y_val,'cloudiness', (6,30))"
   ]
  },
  {
   "cell_type": "markdown",
   "metadata": {},
   "source": [
    "There is a weak positive relationship between cloudiness and latitude in the northern hemisphere. The weak relationship is confirmed with a small r-squared value. However, many data points are clustered at 0% cloudiness or 100% cloudiness at varying latitudes."
   ]
  },
  {
   "cell_type": "markdown",
   "metadata": {},
   "source": [
    "####  Southern Hemisphere - Cloudiness (%) vs. Latitude Linear Regression"
   ]
  },
  {
   "cell_type": "code",
   "execution_count": 23,
   "metadata": {
    "scrolled": true
   },
   "outputs": [
    {
     "name": "stdout",
     "output_type": "stream",
     "text": [
      "The r-squared is: 0.106\n"
     ]
    },
    {
     "data": {
      "image/png": "[encoded data removed]",
      "text/plain": [
       "<Figure size 432x288 with 1 Axes>"
      ]
     },
     "metadata": {
      "needs_background": "light"
     },
     "output_type": "display_data"
    }
   ],
   "source": [
    "x_val = southern_hem[\"latitude\"]\n",
    "y_val = southern_hem[\"cloudiness\"]\n",
    "plot_lin_reg(x_val,y_val,'cloudiness', (6,30))"
   ]
  },
  {
   "cell_type": "markdown",
   "metadata": {},
   "source": [
    "There is no significant relationship between cloudiness and latitude in the southern hemisphere. However, many data points are clustered at 0% cloudiness or 100% cloudiness at varying latitudes."
   ]
  },
  {
   "cell_type": "markdown",
   "metadata": {},
   "source": [
    "####  Northern Hemisphere - Wind Speed (mph) vs. Latitude Linear Regression"
   ]
  },
  {
   "cell_type": "code",
   "execution_count": 24,
   "metadata": {},
   "outputs": [
    {
     "name": "stdout",
     "output_type": "stream",
     "text": [
      "The r-squared is: 0.008\n"
     ]
    },
    {
     "data": {
      "image/png": "[encoded data removed]",
      "text/plain": [
       "<Figure size 432x288 with 1 Axes>"
      ]
     },
     "metadata": {
      "needs_background": "light"
     },
     "output_type": "display_data"
    }
   ],
   "source": [
    "x_val = northern_hem[\"latitude\"]\n",
    "y_val = northern_hem[\"wind speed\"]\n",
    "plot_lin_reg(x_val,y_val,'wind speed', (6,30))"
   ]
  },
  {
   "cell_type": "markdown",
   "metadata": {},
   "source": [
    "There is no significant relationship between wind speed and latitude in the northern hemisphere. The sample shows all windspeeds extracted were <12 mph."
   ]
  },
  {
   "cell_type": "markdown",
   "metadata": {},
   "source": [
    "####  Southern Hemisphere - Wind Speed (mph) vs. Latitude Linear Regression"
   ]
  },
  {
   "cell_type": "code",
   "execution_count": 25,
   "metadata": {},
   "outputs": [
    {
     "name": "stdout",
     "output_type": "stream",
     "text": [
      "The r-squared is: -0.453\n"
     ]
    },
    {
     "data": {
      "image/png": "[encoded data removed]",
      "text/plain": [
       "<Figure size 432x288 with 1 Axes>"
      ]
     },
     "metadata": {
      "needs_background": "light"
     },
     "output_type": "display_data"
    }
   ],
   "source": [
    "x_val = southern_hem[\"latitude\"]\n",
    "y_val = southern_hem[\"wind speed\"]\n",
    "plot_lin_reg(x_val,y_val,'wind speed', (6,30))"
   ]
  },
  {
   "cell_type": "markdown",
   "metadata": {},
   "source": [
    "There is a weak negative correlation between wind speed and latitude in the southern hemisphere. This is confirmed with the r-squared value shown above. Although the correlation is weak, it is stronger than the correlation between wind speed and latitude in the northern hemisphere."
   ]
  }
 ],
 "metadata": {
  "anaconda-cloud": {},
  "kernel_info": {
   "name": "python3"
  },
  "kernelspec": {
   "display_name": "PythonData",
   "language": "python",
   "name": "pythondata"
  },
  "language_info": {
   "codemirror_mode": {
    "name": "ipython",
    "version": 3
   },
   "file_extension": ".py",
   "mimetype": "text/x-python",
   "name": "python",
   "nbconvert_exporter": "python",
   "pygments_lexer": "ipython3",
   "version": "3.9.7"
  },
  "latex_envs": {
   "LaTeX_envs_menu_present": true,
   "autoclose": false,
   "autocomplete": true,
   "bibliofile": "biblio.bib",
   "cite_by": "apalike",
   "current_citInitial": 1,
   "eqLabelWithNumbers": true,
   "eqNumInitial": 1,
   "hotkeys": {
    "equation": "Ctrl-E",
    "itemize": "Ctrl-I"
   },
   "labels_anchors": false,
   "latex_user_defs": false,
   "report_style_numbering": false,
   "user_envs_cfg": false
  },
  "nteract": {
   "version": "0.12.3"
  }
 },
 "nbformat": 4,
 "nbformat_minor": 2
}
