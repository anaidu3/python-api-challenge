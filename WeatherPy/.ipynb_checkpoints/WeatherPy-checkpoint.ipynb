{
 "cells": [
  {
   "cell_type": "markdown",
   "metadata": {},
   "source": [
    "# WeatherPy\n",
    "----\n",
    "\n",
    "#### Note\n",
    "* Instructions have been included for each segment. You do not have to follow them exactly, but they are included to help you think through the steps."
   ]
  },
  {
   "cell_type": "markdown",
   "metadata": {},
   "source": [
    "Part 1: WeatherPy\n",
    "Creating a series of scatter plots to showcase the following relationships:\n",
    "* Temperature (F) vs. Latitude\n",
    "* Humidity (%) vs. Latitude\n",
    "* Cloudiness (%) vs. Latitude\n",
    "* Wind Speed (mph) vs. Latitude"
   ]
  },
  {
   "cell_type": "code",
   "execution_count": 1,
   "metadata": {
    "scrolled": true
   },
   "outputs": [],
   "source": [
    "# Dependencies and Setup\n",
    "import matplotlib.pyplot as plt\n",
    "import pandas as pd\n",
    "import numpy as np\n",
    "import requests\n",
    "import time\n",
    "from scipy.stats import linregress\n",
    "\n",
    "# Import API key\n",
    "from api_keys import weather_api_key\n",
    "\n",
    "# Incorporated citipy to determine city based on latitude and longitude\n",
    "from citipy import citipy\n",
    "\n",
    "# Output File (CSV)\n",
    "output_data_file = \"output_data/cities.csv\"\n",
    "\n",
    "# Range of latitudes and longitudes\n",
    "lat_range = (-90, 90)\n",
    "lng_range = (-180, 180)"
   ]
  },
  {
   "cell_type": "markdown",
   "metadata": {},
   "source": [
    "## Generate Cities List"
   ]
  },
  {
   "cell_type": "code",
   "execution_count": 2,
   "metadata": {},
   "outputs": [
    {
     "data": {
      "text/plain": [
       "616"
      ]
     },
     "execution_count": 2,
     "metadata": {},
     "output_type": "execute_result"
    }
   ],
   "source": [
    "# List for holding lat_lngs and cities\n",
    "lat_lngs = []\n",
    "cities = []\n",
    "\n",
    "# Create a set of random lat and lng combinations\n",
    "lats = np.random.uniform(lat_range[0], lat_range[1], size=1500)\n",
    "lngs = np.random.uniform(lng_range[0], lng_range[1], size=1500)\n",
    "lat_lngs = zip(lats, lngs)\n",
    "\n",
    "# Identify nearest city for each lat, lng combination\n",
    "for lat_lng in lat_lngs:\n",
    "    city = citipy.nearest_city(lat_lng[0], lat_lng[1]).city_name\n",
    "    \n",
    "    # If the city is unique, then add it to a our cities list\n",
    "    if city not in cities:\n",
    "        cities.append(city)\n",
    "\n",
    "# Print the city count to confirm sufficient count\n",
    "len(cities)\n",
    "#print(cities)"
   ]
  },
  {
   "cell_type": "markdown",
   "metadata": {},
   "source": [
    "### Perform API Calls\n",
    "* Perform a weather check on each city using a series of successive API calls.\n",
    "* Include a print log of each city as it's being processed (with the city number and city name)."
   ]
  },
  {
   "cell_type": "code",
   "execution_count": 3,
   "metadata": {
    "scrolled": true
   },
   "outputs": [],
   "source": [
    "# Save config information.\n",
    "url = \"http://api.openweathermap.org/data/2.5/weather?\"\n",
    "units = \"metric\"\n",
    "\n",
    "# Build partial query URL\n",
    "query_url = f\"{url}appid={weather_api_key}&units={units}&q=\"\n"
   ]
  },
  {
   "cell_type": "code",
   "execution_count": 5,
   "metadata": {},
   "outputs": [
    {
     "name": "stdout",
     "output_type": "stream",
     "text": [
      "Processing Record 1 of Set 1 | ushuaia\n",
      "Processing Record 2 of Set 1 | port lincoln\n",
      "Processing Record 3 of Set 1 | provideniya\n",
      "Processing Record 4 of Set 1 | hermanus\n",
      "Processing Record 5 of Set 1 | zhigansk\n",
      "Processing Record 6 of Set 1 | rikitea\n",
      "Processing Record 7 of Set 1 | codrington\n",
      "Processing Record 8 of Set 1 | haysville\n",
      "Processing Record 9 of Set 1 | esperance\n",
      "Processing Record 10 of Set 1 | punta arenas\n",
      "Processing Record 11 of Set 1 | takoradi\n",
      "Processing Record 12 of Set 1 | albany\n",
      "Processing Record 13 of Set 1 | sisimiut\n",
      "Processing Record 14 of Set 1 | port alfred\n",
      "Processing Record 15 of Set 1 | barrow\n",
      "Processing Record 16 of Set 1 | airai\n",
      "Processing Record 17 of Set 1 | butaritari\n",
      "Processing Record 18 of Set 1 | mizdah\n",
      "attawapiskat not found. Skipping...\n",
      "Processing Record 19 of Set 1 | avarua\n",
      "lolua not found. Skipping...\n",
      "Processing Record 20 of Set 1 | beringovskiy\n",
      "Processing Record 21 of Set 1 | tongliao\n",
      "Processing Record 22 of Set 1 | pathein\n",
      "Processing Record 23 of Set 1 | kodiak\n",
      "barentsburg not found. Skipping...\n",
      "Processing Record 24 of Set 1 | cherskiy\n",
      "Processing Record 25 of Set 1 | goundam\n",
      "Processing Record 26 of Set 1 | vaini\n",
      "Processing Record 27 of Set 1 | demidov\n",
      "Processing Record 28 of Set 1 | bambous virieux\n",
      "Processing Record 29 of Set 1 | maldonado\n",
      "Processing Record 30 of Set 1 | new norfolk\n",
      "Processing Record 31 of Set 1 | mataura\n",
      "Processing Record 32 of Set 1 | kudahuvadhoo\n",
      "mys shmidta not found. Skipping...\n",
      "Processing Record 33 of Set 1 | labuhan\n",
      "Processing Record 34 of Set 1 | jamestown\n",
      "Processing Record 35 of Set 1 | ribeira grande\n",
      "Processing Record 36 of Set 1 | yellowknife\n",
      "Processing Record 37 of Set 1 | la ronge\n",
      "Processing Record 38 of Set 1 | havre-saint-pierre\n",
      "Processing Record 39 of Set 1 | walvis bay\n",
      "Processing Record 40 of Set 1 | micheweni\n",
      "Processing Record 41 of Set 1 | ossora\n",
      "Processing Record 42 of Set 1 | bengkulu\n",
      "Processing Record 43 of Set 1 | craig\n",
      "taolanaro not found. Skipping...\n",
      "Processing Record 44 of Set 1 | busselton\n",
      "belushya guba not found. Skipping...\n",
      "Processing Record 45 of Set 1 | dunedin\n",
      "Processing Record 46 of Set 1 | carnarvon\n",
      "Processing Record 47 of Set 1 | east london\n",
      "Processing Record 48 of Set 1 | ponta do sol\n",
      "Processing Record 49 of Set 1 | akdepe\n",
      "Processing Record 50 of Set 1 | qaanaaq\n",
      "Processing Record 0 of Set 2 | svetlogorsk\n",
      "Processing Record 1 of Set 2 | pinhao\n",
      "mullaitivu not found. Skipping...\n",
      "azimur not found. Skipping...\n",
      "Processing Record 2 of Set 2 | kavieng\n",
      "Processing Record 3 of Set 2 | te anau\n",
      "Processing Record 4 of Set 2 | nueve de julio\n",
      "Processing Record 5 of Set 2 | cassilandia\n",
      "Processing Record 6 of Set 2 | pangnirtung\n",
      "Processing Record 7 of Set 2 | khatanga\n",
      "Processing Record 8 of Set 2 | hobart\n",
      "Processing Record 9 of Set 2 | port elizabeth\n",
      "tumannyy not found. Skipping...\n",
      "Processing Record 10 of Set 2 | bredasdorp\n",
      "Processing Record 11 of Set 2 | bandarbeyla\n",
      "Processing Record 12 of Set 2 | pemberton\n",
      "Processing Record 13 of Set 2 | kruisfontein\n",
      "Processing Record 14 of Set 2 | kahului\n",
      "andarab not found. Skipping...\n",
      "Processing Record 15 of Set 2 | malakal\n",
      "Processing Record 16 of Set 2 | luganville\n",
      "marcona not found. Skipping...\n",
      "Processing Record 17 of Set 2 | salalah\n",
      "Processing Record 18 of Set 2 | bonthe\n",
      "afanasyevo not found. Skipping...\n",
      "Processing Record 19 of Set 2 | saint george\n",
      "Processing Record 20 of Set 2 | sinnamary\n",
      "Processing Record 21 of Set 2 | kilifi\n",
      "Processing Record 22 of Set 2 | ulaangom\n",
      "Processing Record 23 of Set 2 | mehamn\n",
      "Processing Record 24 of Set 2 | atuona\n",
      "Processing Record 25 of Set 2 | honningsvag\n",
      "Processing Record 26 of Set 2 | hilo\n",
      "Processing Record 27 of Set 2 | wattegama\n",
      "Processing Record 28 of Set 2 | bluff\n",
      "Processing Record 29 of Set 2 | prince rupert\n",
      "Processing Record 30 of Set 2 | ambilobe\n",
      "Processing Record 31 of Set 2 | upernavik\n",
      "Processing Record 32 of Set 2 | georgetown\n",
      "Processing Record 33 of Set 2 | rio grande\n",
      "Processing Record 34 of Set 2 | tessalit\n",
      "Processing Record 35 of Set 2 | verkhnevilyuysk\n",
      "Processing Record 36 of Set 2 | guerrero negro\n",
      "Processing Record 37 of Set 2 | nikolskoye\n",
      "Processing Record 38 of Set 2 | yerbogachen\n",
      "Processing Record 39 of Set 2 | los llanos de aridane\n",
      "la uribe not found. Skipping...\n",
      "Processing Record 40 of Set 2 | imbituba\n",
      "Processing Record 41 of Set 2 | kupang\n",
      "Processing Record 42 of Set 2 | yichun\n",
      "Processing Record 43 of Set 2 | puerto ayora\n",
      "Processing Record 44 of Set 2 | fairbanks\n",
      "Processing Record 45 of Set 2 | vestmannaeyjar\n",
      "Processing Record 46 of Set 2 | unguia\n",
      "Processing Record 47 of Set 2 | baykit\n",
      "maghama not found. Skipping...\n",
      "Processing Record 48 of Set 2 | victoria\n",
      "Processing Record 49 of Set 2 | aleksandrovka\n",
      "Processing Record 50 of Set 2 | tupik\n",
      "Processing Record 0 of Set 3 | hithadhoo\n",
      "Processing Record 1 of Set 3 | buala\n",
      "Processing Record 2 of Set 3 | chokurdakh\n",
      "Processing Record 3 of Set 3 | pevek\n",
      "Processing Record 4 of Set 3 | lorengau\n",
      "Processing Record 5 of Set 3 | cape town\n",
      "Processing Record 6 of Set 3 | wajid\n",
      "Processing Record 7 of Set 3 | alakurtti\n",
      "Processing Record 8 of Set 3 | thompson\n",
      "Processing Record 9 of Set 3 | lompoc\n",
      "Processing Record 10 of Set 3 | cidreira\n",
      "Processing Record 11 of Set 3 | pianco\n",
      "Processing Record 12 of Set 3 | vrangel\n",
      "Processing Record 13 of Set 3 | port-cartier\n",
      "Processing Record 14 of Set 3 | geraldton\n",
      "Processing Record 15 of Set 3 | castro\n",
      "Processing Record 16 of Set 3 | kaniama\n",
      "Processing Record 17 of Set 3 | arraial do cabo\n",
      "Processing Record 18 of Set 3 | mabaruma\n",
      "Processing Record 19 of Set 3 | kemijarvi\n",
      "Processing Record 20 of Set 3 | murray bridge\n",
      "Processing Record 21 of Set 3 | kangasala\n",
      "Processing Record 22 of Set 3 | mahebourg\n",
      "Processing Record 23 of Set 3 | huarmey\n",
      "sentyabrskiy not found. Skipping...\n",
      "Processing Record 24 of Set 3 | shimanovsk\n",
      "Processing Record 25 of Set 3 | chuy\n",
      "Processing Record 26 of Set 3 | rawson\n",
      "Processing Record 27 of Set 3 | sao joao da barra\n",
      "Processing Record 28 of Set 3 | guane\n",
      "Processing Record 29 of Set 3 | faanui\n",
      "Processing Record 30 of Set 3 | husavik\n",
      "Processing Record 31 of Set 3 | hambantota\n",
      "Processing Record 32 of Set 3 | westport\n",
      "Processing Record 33 of Set 3 | acapulco\n",
      "Processing Record 34 of Set 3 | naze\n",
      "Processing Record 35 of Set 3 | ribas do rio pardo\n",
      "Processing Record 36 of Set 3 | calama\n",
      "illoqqortoormiut not found. Skipping...\n",
      "Processing Record 37 of Set 3 | nerchinsk\n",
      "Processing Record 38 of Set 3 | cabo san lucas\n",
      "Processing Record 39 of Set 3 | saskylakh\n",
      "Processing Record 40 of Set 3 | boyolangu\n",
      "Processing Record 41 of Set 3 | clyde river\n",
      "Processing Record 42 of Set 3 | padang\n",
      "Processing Record 43 of Set 3 | talnakh\n",
      "Processing Record 44 of Set 3 | belle fourche\n",
      "Processing Record 45 of Set 3 | namibe\n",
      "sumbawa not found. Skipping...\n",
      "Processing Record 46 of Set 3 | ketchikan\n",
      "Processing Record 47 of Set 3 | dzaoudzi\n",
      "Processing Record 48 of Set 3 | teguldet\n",
      "Processing Record 49 of Set 3 | zonguldak\n",
      "Processing Record 50 of Set 3 | arinos\n",
      "Processing Record 0 of Set 4 | isla vista\n",
      "Processing Record 1 of Set 4 | goderich\n",
      "Processing Record 2 of Set 4 | auki\n",
      "Processing Record 3 of Set 4 | sumbe\n",
      "Processing Record 4 of Set 4 | kapaa\n",
      "Processing Record 5 of Set 4 | nushki\n",
      "Processing Record 6 of Set 4 | matagami\n",
      "Processing Record 7 of Set 4 | severo-kurilsk\n",
      "Processing Record 8 of Set 4 | ayr\n",
      "Processing Record 9 of Set 4 | touros\n",
      "amderma not found. Skipping...\n",
      "Processing Record 10 of Set 4 | pisco\n",
      "Processing Record 11 of Set 4 | ancud\n",
      "Processing Record 12 of Set 4 | fortuna\n",
      "Processing Record 13 of Set 4 | kaitangata\n",
      "bolungarvik not found. Skipping...\n",
      "Processing Record 14 of Set 4 | shache\n",
      "Processing Record 15 of Set 4 | tutoia\n",
      "paradwip not found. Skipping...\n",
      "Processing Record 16 of Set 4 | cahors\n",
      "Processing Record 17 of Set 4 | kungurtug\n",
      "Processing Record 18 of Set 4 | sabalgarh\n",
      "Processing Record 19 of Set 4 | nome\n",
      "Processing Record 20 of Set 4 | luderitz\n",
      "Processing Record 21 of Set 4 | bronnoysund\n",
      "santa cruz de rosales not found. Skipping...\n",
      "Processing Record 22 of Set 4 | margate\n",
      "Processing Record 23 of Set 4 | ilulissat\n",
      "Processing Record 24 of Set 4 | port hardy\n",
      "rawannawi not found. Skipping...\n",
      "Processing Record 25 of Set 4 | iqaluit\n",
      "karamay not found. Skipping...\n",
      "Processing Record 26 of Set 4 | komsomolskiy\n",
      "Processing Record 27 of Set 4 | atambua\n",
      "Processing Record 28 of Set 4 | sitka\n"
     ]
    },
    {
     "name": "stdout",
     "output_type": "stream",
     "text": [
      "Processing Record 29 of Set 4 | sanmenxia\n",
      "Processing Record 30 of Set 4 | belaya gora\n",
      "umzimvubu not found. Skipping...\n",
      "karaul not found. Skipping...\n",
      "Processing Record 31 of Set 4 | pervomayskoye\n",
      "Processing Record 32 of Set 4 | yauya\n",
      "Processing Record 33 of Set 4 | sakaiminato\n",
      "Processing Record 34 of Set 4 | kepanjen\n",
      "Processing Record 35 of Set 4 | paldiski\n",
      "Processing Record 36 of Set 4 | sume\n",
      "Processing Record 37 of Set 4 | malanje\n",
      "Processing Record 38 of Set 4 | tasiilaq\n",
      "mrirt not found. Skipping...\n",
      "Processing Record 39 of Set 4 | tucurui\n",
      "Processing Record 40 of Set 4 | bethel\n",
      "Processing Record 41 of Set 4 | boyabat\n",
      "Processing Record 42 of Set 4 | pochutla\n",
      "Processing Record 43 of Set 4 | basco\n",
      "Processing Record 44 of Set 4 | dikson\n",
      "Processing Record 45 of Set 4 | asau\n",
      "Processing Record 46 of Set 4 | kushmurun\n",
      "Processing Record 47 of Set 4 | port-gentil\n",
      "Processing Record 48 of Set 4 | okakarara\n",
      "Processing Record 49 of Set 4 | sambava\n",
      "Processing Record 50 of Set 4 | hami\n",
      "Processing Record 0 of Set 5 | vikhorevka\n",
      "Processing Record 1 of Set 5 | liverpool\n",
      "Processing Record 2 of Set 5 | nagato\n",
      "Processing Record 3 of Set 5 | sao filipe\n",
      "nizhneyansk not found. Skipping...\n",
      "Processing Record 4 of Set 5 | rosarito\n",
      "Processing Record 5 of Set 5 | mar del plata\n",
      "Processing Record 6 of Set 5 | isangel\n",
      "Processing Record 7 of Set 5 | hamilton\n",
      "Processing Record 8 of Set 5 | ostersund\n",
      "sorvag not found. Skipping...\n",
      "Processing Record 9 of Set 5 | kuah\n",
      "Processing Record 10 of Set 5 | richards bay\n",
      "Processing Record 11 of Set 5 | anadyr\n",
      "Processing Record 12 of Set 5 | korla\n",
      "Processing Record 13 of Set 5 | palu\n",
      "Processing Record 14 of Set 5 | camalu\n",
      "Processing Record 15 of Set 5 | yumen\n",
      "Processing Record 16 of Set 5 | bilibino\n",
      "Processing Record 17 of Set 5 | viterbo\n",
      "Processing Record 18 of Set 5 | innoshima\n",
      "Processing Record 19 of Set 5 | milos\n",
      "Processing Record 20 of Set 5 | lyubytino\n",
      "Processing Record 21 of Set 5 | san cristobal\n",
      "Processing Record 22 of Set 5 | dong xoai\n",
      "Processing Record 23 of Set 5 | longyearbyen\n",
      "Processing Record 24 of Set 5 | narsaq\n",
      "Processing Record 25 of Set 5 | fayaoue\n",
      "Processing Record 26 of Set 5 | aklavik\n",
      "Processing Record 27 of Set 5 | angoche\n",
      "Processing Record 28 of Set 5 | shelburne\n",
      "Processing Record 29 of Set 5 | sabirabad\n",
      "Processing Record 30 of Set 5 | bathsheba\n",
      "Processing Record 31 of Set 5 | iskilip\n",
      "Processing Record 32 of Set 5 | saint-augustin\n",
      "Processing Record 33 of Set 5 | carutapera\n",
      "samusu not found. Skipping...\n",
      "vaitupu not found. Skipping...\n",
      "naftah not found. Skipping...\n",
      "Processing Record 34 of Set 5 | tuatapere\n",
      "dujuma not found. Skipping...\n",
      "Processing Record 35 of Set 5 | santa rosa\n",
      "Processing Record 36 of Set 5 | pacific grove\n",
      "Processing Record 37 of Set 5 | ngunguru\n",
      "Processing Record 38 of Set 5 | abu zabad\n",
      "Processing Record 39 of Set 5 | ugoofaaru\n",
      "Processing Record 40 of Set 5 | forbes\n",
      "Processing Record 41 of Set 5 | ceres\n",
      "palabuhanratu not found. Skipping...\n",
      "Processing Record 42 of Set 5 | caracollo\n",
      "Processing Record 43 of Set 5 | shagonar\n",
      "Processing Record 44 of Set 5 | karratha\n",
      "Processing Record 45 of Set 5 | tuktoyaktuk\n",
      "Processing Record 46 of Set 5 | ahipara\n",
      "sansai not found. Skipping...\n",
      "Processing Record 47 of Set 5 | adrar\n",
      "Processing Record 48 of Set 5 | birnin kebbi\n",
      "Processing Record 49 of Set 5 | karasjok\n",
      "tsihombe not found. Skipping...\n",
      "Processing Record 50 of Set 5 | bestobe\n",
      "Processing Record 0 of Set 6 | hasaki\n",
      "Processing Record 1 of Set 6 | bunda\n",
      "Processing Record 2 of Set 6 | syracuse\n",
      "dinsor not found. Skipping...\n",
      "grand river south east not found. Skipping...\n",
      "Processing Record 3 of Set 6 | gamba\n",
      "sahrak not found. Skipping...\n",
      "Processing Record 4 of Set 6 | aksha\n",
      "Processing Record 5 of Set 6 | tabou\n",
      "Processing Record 6 of Set 6 | san matias\n",
      "Processing Record 7 of Set 6 | umea\n",
      "Processing Record 8 of Set 6 | singapore\n",
      "Processing Record 9 of Set 6 | kushima\n",
      "Processing Record 10 of Set 6 | birsk\n",
      "Processing Record 11 of Set 6 | yar-sale\n",
      "Processing Record 12 of Set 6 | saint-philippe\n",
      "malwan not found. Skipping...\n",
      "Processing Record 13 of Set 6 | svetlyy\n",
      "Processing Record 14 of Set 6 | araouane\n",
      "armacao dos buzios not found. Skipping...\n",
      "Processing Record 15 of Set 6 | wahpeton\n",
      "Processing Record 16 of Set 6 | vila franca do campo\n",
      "Processing Record 17 of Set 6 | havelock\n",
      "Processing Record 18 of Set 6 | mosquera\n",
      "Processing Record 19 of Set 6 | tokur\n",
      "Processing Record 20 of Set 6 | nanortalik\n",
      "Processing Record 21 of Set 6 | bilimbay\n",
      "Processing Record 22 of Set 6 | makaryev\n",
      "Processing Record 23 of Set 6 | souillac\n",
      "barbar not found. Skipping...\n",
      "Processing Record 24 of Set 6 | kafanchan\n",
      "Processing Record 25 of Set 6 | dekernes\n",
      "Processing Record 26 of Set 6 | rudbar\n",
      "Processing Record 27 of Set 6 | panguna\n",
      "Processing Record 28 of Set 6 | sioux lookout\n",
      "Processing Record 29 of Set 6 | aban\n",
      "Processing Record 30 of Set 6 | hobyo\n",
      "Processing Record 31 of Set 6 | nagaoka\n",
      "Processing Record 32 of Set 6 | nampula\n",
      "Processing Record 33 of Set 6 | qostanay\n",
      "Processing Record 34 of Set 6 | hue\n",
      "Processing Record 35 of Set 6 | sibu\n",
      "Processing Record 36 of Set 6 | sechura\n",
      "Processing Record 37 of Set 6 | palmer\n",
      "Processing Record 38 of Set 6 | klaksvik\n",
      "Processing Record 39 of Set 6 | lebu\n",
      "Processing Record 40 of Set 6 | proletarsk\n",
      "Processing Record 41 of Set 6 | brekstad\n",
      "Processing Record 42 of Set 6 | kerava\n",
      "Processing Record 43 of Set 6 | yuksekova\n",
      "Processing Record 44 of Set 6 | lyubim\n",
      "Processing Record 45 of Set 6 | kapit\n",
      "Processing Record 46 of Set 6 | lavras da mangabeira\n",
      "Processing Record 47 of Set 6 | molchanovo\n",
      "Processing Record 48 of Set 6 | marabba\n",
      "Processing Record 49 of Set 6 | zaraza\n",
      "litoral del san juan not found. Skipping...\n",
      "Processing Record 50 of Set 6 | yacuiba\n",
      "karkaralinsk not found. Skipping...\n",
      "Processing Record 0 of Set 7 | kaeo\n",
      "Processing Record 1 of Set 7 | la argentina\n",
      "Processing Record 2 of Set 7 | mount isa\n",
      "Processing Record 3 of Set 7 | saint-esteve\n",
      "Processing Record 4 of Set 7 | marzuq\n",
      "Processing Record 5 of Set 7 | thinadhoo\n",
      "Processing Record 6 of Set 7 | harper\n",
      "Processing Record 7 of Set 7 | picayune\n",
      "Processing Record 8 of Set 7 | moa\n",
      "Processing Record 9 of Set 7 | radeberg\n",
      "Processing Record 10 of Set 7 | tiksi\n",
      "Processing Record 11 of Set 7 | coos bay\n",
      "Processing Record 12 of Set 7 | wanning\n",
      "Processing Record 13 of Set 7 | lavrentiya\n",
      "Processing Record 14 of Set 7 | gazanjyk\n",
      "Processing Record 15 of Set 7 | porto novo\n",
      "Processing Record 16 of Set 7 | san juan\n",
      "Processing Record 17 of Set 7 | antofagasta\n",
      "Processing Record 18 of Set 7 | camopi\n",
      "Processing Record 19 of Set 7 | apatzingan\n",
      "Processing Record 20 of Set 7 | pop\n",
      "Processing Record 21 of Set 7 | malegaon\n",
      "Processing Record 22 of Set 7 | atocha\n",
      "Processing Record 23 of Set 7 | mumford\n",
      "Processing Record 24 of Set 7 | izhma\n",
      "Processing Record 25 of Set 7 | lamin\n",
      "Processing Record 26 of Set 7 | riachao das neves\n",
      "Processing Record 27 of Set 7 | camacha\n",
      "Processing Record 28 of Set 7 | pahrump\n",
      "Processing Record 29 of Set 7 | fare\n",
      "Processing Record 30 of Set 7 | kharan\n",
      "Processing Record 31 of Set 7 | rincon\n",
      "Processing Record 32 of Set 7 | mujiayingzi\n",
      "Processing Record 33 of Set 7 | tual\n",
      "Processing Record 34 of Set 7 | xuchang\n",
      "Processing Record 35 of Set 7 | beloha\n",
      "Processing Record 36 of Set 7 | matara\n",
      "Processing Record 37 of Set 7 | poya\n",
      "Processing Record 38 of Set 7 | mercedes\n",
      "Processing Record 39 of Set 7 | pechenga\n",
      "Processing Record 40 of Set 7 | vanimo\n",
      "Processing Record 41 of Set 7 | talcahuano\n",
      "Processing Record 42 of Set 7 | kalemie\n",
      "Processing Record 43 of Set 7 | tilichiki\n",
      "Processing Record 44 of Set 7 | dingle\n",
      "Processing Record 45 of Set 7 | moranbah\n",
      "Processing Record 46 of Set 7 | saint-pierre\n",
      "Processing Record 47 of Set 7 | marktoberdorf\n",
      "Processing Record 48 of Set 7 | aykhal\n",
      "Processing Record 49 of Set 7 | vylkove\n",
      "Processing Record 50 of Set 7 | carlibaba\n",
      "Processing Record 0 of Set 8 | koumra\n",
      "Processing Record 1 of Set 8 | sheridan\n",
      "Processing Record 2 of Set 8 | khudumelapye\n",
      "Processing Record 3 of Set 8 | lagoa\n",
      "Processing Record 4 of Set 8 | le port\n",
      "aflu not found. Skipping...\n",
      "Processing Record 5 of Set 8 | ola\n",
      "Processing Record 6 of Set 8 | lamar\n",
      "Processing Record 7 of Set 8 | srikakulam\n",
      "shaartuz not found. Skipping...\n",
      "Processing Record 8 of Set 8 | matadi\n",
      "senmonorom not found. Skipping...\n",
      "Processing Record 9 of Set 8 | groningen\n"
     ]
    },
    {
     "name": "stdout",
     "output_type": "stream",
     "text": [
      "Processing Record 10 of Set 8 | grand gaube\n",
      "Processing Record 11 of Set 8 | manali\n",
      "Processing Record 12 of Set 8 | saint-joseph\n",
      "Processing Record 13 of Set 8 | kyzyl-mazhalyk\n",
      "Processing Record 14 of Set 8 | maamba\n",
      "Processing Record 15 of Set 8 | vardo\n",
      "Processing Record 16 of Set 8 | general elizardo aquino\n",
      "Processing Record 17 of Set 8 | niny\n",
      "Processing Record 18 of Set 8 | kangaatsiaq\n",
      "Processing Record 19 of Set 8 | san patricio\n",
      "Processing Record 20 of Set 8 | berdigestyakh\n",
      "Processing Record 21 of Set 8 | araguacu\n",
      "Processing Record 22 of Set 8 | burriana\n",
      "Processing Record 23 of Set 8 | dole\n",
      "Processing Record 24 of Set 8 | chernyshevskiy\n",
      "Processing Record 25 of Set 8 | sterling\n",
      "Processing Record 26 of Set 8 | soyo\n",
      "Processing Record 27 of Set 8 | maragogi\n",
      "Processing Record 28 of Set 8 | qaqortoq\n",
      "Processing Record 29 of Set 8 | palmeira das missoes\n",
      "Processing Record 30 of Set 8 | kismayo\n",
      "Processing Record 31 of Set 8 | huancavelica\n",
      "Processing Record 32 of Set 8 | severnoye\n",
      "Processing Record 33 of Set 8 | koumac\n",
      "inderborskiy not found. Skipping...\n",
      "Processing Record 34 of Set 8 | cabedelo\n",
      "Processing Record 35 of Set 8 | conde\n",
      "Processing Record 36 of Set 8 | kulhudhuffushi\n",
      "Processing Record 37 of Set 8 | rundu\n",
      "Processing Record 38 of Set 8 | chardara\n",
      "Processing Record 39 of Set 8 | hazorasp\n",
      "Processing Record 40 of Set 8 | mbaiki\n",
      "Processing Record 41 of Set 8 | cuiluan\n",
      "Processing Record 42 of Set 8 | tecalitlan\n",
      "Processing Record 43 of Set 8 | konevo\n",
      "Processing Record 44 of Set 8 | sindor\n",
      "Processing Record 45 of Set 8 | hofn\n",
      "Processing Record 46 of Set 8 | kiruna\n",
      "Processing Record 47 of Set 8 | yazman\n",
      "Processing Record 48 of Set 8 | ostrovnoy\n",
      "Processing Record 49 of Set 8 | norman wells\n",
      "Processing Record 50 of Set 8 | czersk\n",
      "Processing Record 0 of Set 9 | henties bay\n",
      "Processing Record 1 of Set 9 | kargil\n",
      "Processing Record 2 of Set 9 | wajima\n",
      "Processing Record 3 of Set 9 | iowa city\n",
      "Processing Record 4 of Set 9 | christchurch\n",
      "Processing Record 5 of Set 9 | bowen\n",
      "Processing Record 6 of Set 9 | baghdad\n",
      "Processing Record 7 of Set 9 | laguna\n",
      "Processing Record 8 of Set 9 | chubbuck\n",
      "Processing Record 9 of Set 9 | san quintin\n",
      "Processing Record 10 of Set 9 | san felipe\n",
      "Processing Record 11 of Set 9 | assiniboia\n",
      "Processing Record 12 of Set 9 | ixtapa\n",
      "Processing Record 13 of Set 9 | constitucion\n",
      "Processing Record 14 of Set 9 | vanavara\n",
      "Processing Record 15 of Set 9 | guilin\n",
      "phan rang not found. Skipping...\n",
      "Processing Record 16 of Set 9 | clarence town\n",
      "Processing Record 17 of Set 9 | haines junction\n",
      "Processing Record 18 of Set 9 | taksimo\n",
      "Processing Record 19 of Set 9 | necochea\n",
      "Processing Record 20 of Set 9 | broome\n",
      "Processing Record 21 of Set 9 | cayenne\n",
      "Processing Record 22 of Set 9 | springfield\n",
      "Processing Record 23 of Set 9 | umm kaddadah\n",
      "Processing Record 24 of Set 9 | sangar\n",
      "Processing Record 25 of Set 9 | mecca\n",
      "Processing Record 26 of Set 9 | martina franca\n",
      "Processing Record 27 of Set 9 | santa isabel do rio negro\n",
      "Processing Record 28 of Set 9 | nesbyen\n",
      "Processing Record 29 of Set 9 | namatanai\n",
      "Processing Record 30 of Set 9 | tortoli\n",
      "Processing Record 31 of Set 9 | mbanza-ngungu\n",
      "Processing Record 32 of Set 9 | salaya\n",
      "Processing Record 33 of Set 9 | brindisi\n",
      "Processing Record 34 of Set 9 | dakar\n",
      "Processing Record 35 of Set 9 | nouakchott\n",
      "Processing Record 36 of Set 9 | vierzon\n",
      "Processing Record 37 of Set 9 | cochrane\n",
      "Processing Record 38 of Set 9 | bembereke\n",
      "Processing Record 39 of Set 9 | marquette\n",
      "Processing Record 40 of Set 9 | buchanan\n",
      "Processing Record 41 of Set 9 | bershet\n",
      "Processing Record 42 of Set 9 | reconquista\n",
      "Processing Record 43 of Set 9 | bodo\n",
      "Processing Record 44 of Set 9 | north platte\n",
      "Processing Record 45 of Set 9 | porto velho\n",
      "Processing Record 46 of Set 9 | santa maria\n",
      "Processing Record 47 of Set 9 | high prairie\n",
      "Processing Record 48 of Set 9 | verkh-chebula\n",
      "Processing Record 49 of Set 9 | montepuez\n",
      "Processing Record 50 of Set 9 | minsk\n",
      "Processing Record 0 of Set 10 | roebourne\n",
      "Processing Record 1 of Set 10 | greystones\n",
      "Processing Record 2 of Set 10 | zheleznodorozhnyy\n",
      "Processing Record 3 of Set 10 | madang\n",
      "Processing Record 4 of Set 10 | tapes\n",
      "Processing Record 5 of Set 10 | gladstone\n",
      "Processing Record 6 of Set 10 | caucaia\n",
      "Processing Record 7 of Set 10 | iquique\n",
      "Processing Record 8 of Set 10 | itarema\n",
      "Processing Record 9 of Set 10 | menongue\n",
      "Processing Record 10 of Set 10 | fort nelson\n",
      "Processing Record 11 of Set 10 | yulara\n",
      "Processing Record 12 of Set 10 | riyadh\n",
      "Processing Record 13 of Set 10 | yaan\n",
      "Processing Record 14 of Set 10 | atherton\n",
      "Processing Record 15 of Set 10 | barra do garcas\n",
      "Processing Record 16 of Set 10 | flin flon\n",
      "Processing Record 17 of Set 10 | saint-jean-port-joli\n",
      "Processing Record 18 of Set 10 | sorland\n",
      "Processing Record 19 of Set 10 | koygorodok\n",
      "Processing Record 20 of Set 10 | hualmay\n",
      "monatele not found. Skipping...\n",
      "Processing Record 21 of Set 10 | coquimbo\n",
      "Processing Record 22 of Set 10 | alta floresta\n",
      "Processing Record 23 of Set 10 | kefamenanu\n",
      "falealupo not found. Skipping...\n",
      "Processing Record 24 of Set 10 | bilma\n",
      "santa eulalia del rio not found. Skipping...\n",
      "sinkat not found. Skipping...\n",
      "Processing Record 25 of Set 10 | jinchang\n",
      "Processing Record 26 of Set 10 | alofi\n",
      "Processing Record 27 of Set 10 | mikhaylovka\n",
      "Processing Record 28 of Set 10 | mangai\n",
      "Processing Record 29 of Set 10 | vieira de leiria\n",
      "Processing Record 30 of Set 10 | nishihara\n",
      "Processing Record 31 of Set 10 | recklinghausen\n",
      "Processing Record 32 of Set 10 | amahai\n",
      "Processing Record 33 of Set 10 | batagay-alyta\n",
      "Processing Record 34 of Set 10 | colares\n",
      "Processing Record 35 of Set 10 | waipawa\n",
      "Processing Record 36 of Set 10 | torbay\n",
      "Processing Record 37 of Set 10 | moussoro\n",
      "Processing Record 38 of Set 10 | venlo\n",
      "Processing Record 39 of Set 10 | opuwo\n",
      "Processing Record 40 of Set 10 | arrecife\n",
      "la gaulette not found. Skipping...\n",
      "barawe not found. Skipping...\n",
      "Processing Record 41 of Set 10 | mount gambier\n",
      "Processing Record 42 of Set 10 | ushtobe\n",
      "Processing Record 43 of Set 10 | gorom-gorom\n",
      "Processing Record 44 of Set 10 | tonneins\n",
      "Processing Record 45 of Set 10 | nemuro\n",
      "Processing Record 46 of Set 10 | black river\n",
      "Processing Record 47 of Set 10 | ardesen\n",
      "Processing Record 48 of Set 10 | saint-louis\n",
      "opobo not found. Skipping...\n",
      "Processing Record 49 of Set 10 | halifax\n",
      "Processing Record 50 of Set 10 | coolum beach\n",
      "Processing Record 0 of Set 11 | bereda\n",
      "Processing Record 1 of Set 11 | kemi\n",
      "Processing Record 2 of Set 11 | palamos\n",
      "Processing Record 3 of Set 11 | kavaratti\n",
      "Processing Record 4 of Set 11 | denpasar\n",
      "Processing Record 5 of Set 11 | kralendijk\n",
      "Processing Record 6 of Set 11 | matamoros\n",
      "Processing Record 7 of Set 11 | katsuura\n",
      "kamenskoye not found. Skipping...\n",
      "Processing Record 8 of Set 11 | chifeng\n",
      "Processing Record 9 of Set 11 | port hueneme\n",
      "Processing Record 10 of Set 11 | dehloran\n",
      "Processing Record 11 of Set 11 | saint-georges\n",
      "Processing Record 12 of Set 11 | morant bay\n",
      "Processing Record 13 of Set 11 | sironj\n",
      "Processing Record 14 of Set 11 | kurilsk\n",
      "Processing Record 15 of Set 11 | ca mau\n",
      "Processing Record 16 of Set 11 | porbandar\n",
      "Processing Record 17 of Set 11 | artyom\n",
      "Processing Record 18 of Set 11 | weiser\n",
      "Processing Record 19 of Set 11 | acarau\n",
      "Processing Record 20 of Set 11 | biak\n",
      "Processing Record 21 of Set 11 | yizhivtsi\n",
      "Processing Record 22 of Set 11 | vangaindrano\n",
      "Processing Record 23 of Set 11 | spring valley\n",
      "Processing Record 24 of Set 11 | manaure\n",
      "Processing Record 25 of Set 11 | xining\n",
      "Processing Record 26 of Set 11 | asyut\n",
      "Processing Record 27 of Set 11 | togul\n",
      "Processing Record 28 of Set 11 | thio\n",
      "Processing Record 29 of Set 11 | jobabo\n",
      "Processing Record 30 of Set 11 | anastacio\n",
      "Processing Record 31 of Set 11 | parrita\n",
      "Processing Record 32 of Set 11 | virpur\n",
      "Processing Record 33 of Set 11 | baruun-urt\n",
      "Processing Record 34 of Set 11 | kununurra\n",
      "Processing Record 35 of Set 11 | camabatela\n",
      "Processing Record 36 of Set 11 | abbeville\n",
      "Processing Record 37 of Set 11 | mariana\n",
      "Processing Record 38 of Set 11 | berlevag\n",
      "Processing Record 39 of Set 11 | north bend\n",
      "Processing Record 40 of Set 11 | sabha\n",
      "Processing Record 41 of Set 11 | duku\n",
      "tabiauea not found. Skipping...\n",
      "Processing Record 42 of Set 11 | zhicheng\n",
      "karauzyak not found. Skipping...\n"
     ]
    },
    {
     "name": "stdout",
     "output_type": "stream",
     "text": [
      "Processing Record 43 of Set 11 | guanica\n",
      "Processing Record 44 of Set 11 | pemangkat\n",
      "Processing Record 45 of Set 11 | doiwala\n",
      "Processing Record 46 of Set 11 | cherrapunji\n",
      "Processing Record 47 of Set 11 | olafsvik\n",
      "Processing Record 48 of Set 11 | miandrivazo\n"
     ]
    }
   ],
   "source": [
    "# set up lists to hold reponse info\n",
    "city_list = []\n",
    "lat = []\n",
    "lng = []\n",
    "max_temp =[]\n",
    "humidity = []\n",
    "cloudiness = []\n",
    "wind_speed = []\n",
    "\n",
    "count = 0\n",
    "set_num = 1\n",
    "\n",
    "\n",
    "# Loop through the list of cities and perform a request for data on each\n",
    "for city in cities:\n",
    "    try:\n",
    "        response = requests.get(query_url + city) \n",
    "        response = response.json()\n",
    "        city_list.append(response['name'])\n",
    "        lat.append(response['coord']['lat'])\n",
    "        lng.append(response['coord']['lon'])\n",
    "        max_temp.append(response['main']['temp_max'])\n",
    "        humidity.append(response['main']['humidity'])\n",
    "        cloudiness.append(response['clouds']['all'])\n",
    "        wind_speed.append(response['wind']['speed'])\n",
    "\n",
    "        if count > 49:\n",
    "            count = 0\n",
    "            set_num = set_num + 1\n",
    "        else:\n",
    "            count = count +1   \n",
    "        print(f\"Processing Record {count} of Set {set_num} | {city}\")\n",
    "    except:\n",
    "        print(f\"{city} not found. Skipping...\")\n"
   ]
  },
  {
   "cell_type": "markdown",
   "metadata": {},
   "source": [
    "### Convert Raw Data to DataFrame\n",
    "* Export the city data into a .csv.\n",
    "* Display the DataFrame"
   ]
  },
  {
   "cell_type": "code",
   "execution_count": 6,
   "metadata": {},
   "outputs": [
    {
     "data": {
      "text/html": [
       "<div>\n",
       "<style scoped>\n",
       "    .dataframe tbody tr th:only-of-type {\n",
       "        vertical-align: middle;\n",
       "    }\n",
       "\n",
       "    .dataframe tbody tr th {\n",
       "        vertical-align: top;\n",
       "    }\n",
       "\n",
       "    .dataframe thead th {\n",
       "        text-align: right;\n",
       "    }\n",
       "</style>\n",
       "<table border=\"1\" class=\"dataframe\">\n",
       "  <thead>\n",
       "    <tr style=\"text-align: right;\">\n",
       "      <th></th>\n",
       "      <th>city_name</th>\n",
       "      <th>latitude</th>\n",
       "      <th>longitude</th>\n",
       "      <th>max_temperature</th>\n",
       "      <th>humidity</th>\n",
       "      <th>cloudiness</th>\n",
       "      <th>wind speed</th>\n",
       "    </tr>\n",
       "  </thead>\n",
       "  <tbody>\n",
       "    <tr>\n",
       "      <th>0</th>\n",
       "      <td>Ushuaia</td>\n",
       "      <td>-54.8000</td>\n",
       "      <td>-68.3000</td>\n",
       "      <td>3.31</td>\n",
       "      <td>80</td>\n",
       "      <td>50</td>\n",
       "      <td>0.93</td>\n",
       "    </tr>\n",
       "    <tr>\n",
       "      <th>1</th>\n",
       "      <td>Port Lincoln</td>\n",
       "      <td>-34.7333</td>\n",
       "      <td>135.8667</td>\n",
       "      <td>17.89</td>\n",
       "      <td>81</td>\n",
       "      <td>100</td>\n",
       "      <td>4.24</td>\n",
       "    </tr>\n",
       "    <tr>\n",
       "      <th>2</th>\n",
       "      <td>Provideniya</td>\n",
       "      <td>64.3833</td>\n",
       "      <td>-173.3000</td>\n",
       "      <td>1.06</td>\n",
       "      <td>69</td>\n",
       "      <td>0</td>\n",
       "      <td>2.00</td>\n",
       "    </tr>\n",
       "    <tr>\n",
       "      <th>3</th>\n",
       "      <td>Hermanus</td>\n",
       "      <td>-34.4187</td>\n",
       "      <td>19.2345</td>\n",
       "      <td>14.72</td>\n",
       "      <td>77</td>\n",
       "      <td>85</td>\n",
       "      <td>2.26</td>\n",
       "    </tr>\n",
       "    <tr>\n",
       "      <th>4</th>\n",
       "      <td>Zhigansk</td>\n",
       "      <td>66.7697</td>\n",
       "      <td>123.3711</td>\n",
       "      <td>-13.80</td>\n",
       "      <td>97</td>\n",
       "      <td>84</td>\n",
       "      <td>2.86</td>\n",
       "    </tr>\n",
       "    <tr>\n",
       "      <th>...</th>\n",
       "      <td>...</td>\n",
       "      <td>...</td>\n",
       "      <td>...</td>\n",
       "      <td>...</td>\n",
       "      <td>...</td>\n",
       "      <td>...</td>\n",
       "      <td>...</td>\n",
       "    </tr>\n",
       "    <tr>\n",
       "      <th>553</th>\n",
       "      <td>Pemangkat</td>\n",
       "      <td>1.1667</td>\n",
       "      <td>108.9667</td>\n",
       "      <td>26.26</td>\n",
       "      <td>85</td>\n",
       "      <td>93</td>\n",
       "      <td>2.06</td>\n",
       "    </tr>\n",
       "    <tr>\n",
       "      <th>554</th>\n",
       "      <td>Doiwāla</td>\n",
       "      <td>30.1833</td>\n",
       "      <td>78.1167</td>\n",
       "      <td>22.73</td>\n",
       "      <td>22</td>\n",
       "      <td>26</td>\n",
       "      <td>2.81</td>\n",
       "    </tr>\n",
       "    <tr>\n",
       "      <th>555</th>\n",
       "      <td>Cherrapunjee</td>\n",
       "      <td>25.3000</td>\n",
       "      <td>91.7000</td>\n",
       "      <td>15.09</td>\n",
       "      <td>91</td>\n",
       "      <td>41</td>\n",
       "      <td>0.92</td>\n",
       "    </tr>\n",
       "    <tr>\n",
       "      <th>556</th>\n",
       "      <td>Olafsvik</td>\n",
       "      <td>64.8945</td>\n",
       "      <td>-23.7142</td>\n",
       "      <td>7.76</td>\n",
       "      <td>76</td>\n",
       "      <td>97</td>\n",
       "      <td>3.26</td>\n",
       "    </tr>\n",
       "    <tr>\n",
       "      <th>557</th>\n",
       "      <td>Miandrivazo</td>\n",
       "      <td>-19.5167</td>\n",
       "      <td>45.4667</td>\n",
       "      <td>24.26</td>\n",
       "      <td>84</td>\n",
       "      <td>100</td>\n",
       "      <td>0.84</td>\n",
       "    </tr>\n",
       "  </tbody>\n",
       "</table>\n",
       "<p>558 rows × 7 columns</p>\n",
       "</div>"
      ],
      "text/plain": [
       "        city_name  latitude  longitude  max_temperature  humidity  cloudiness  \\\n",
       "0         Ushuaia  -54.8000   -68.3000             3.31        80          50   \n",
       "1    Port Lincoln  -34.7333   135.8667            17.89        81         100   \n",
       "2     Provideniya   64.3833  -173.3000             1.06        69           0   \n",
       "3        Hermanus  -34.4187    19.2345            14.72        77          85   \n",
       "4        Zhigansk   66.7697   123.3711           -13.80        97          84   \n",
       "..            ...       ...        ...              ...       ...         ...   \n",
       "553     Pemangkat    1.1667   108.9667            26.26        85          93   \n",
       "554       Doiwāla   30.1833    78.1167            22.73        22          26   \n",
       "555  Cherrapunjee   25.3000    91.7000            15.09        91          41   \n",
       "556      Olafsvik   64.8945   -23.7142             7.76        76          97   \n",
       "557   Miandrivazo  -19.5167    45.4667            24.26        84         100   \n",
       "\n",
       "     wind speed  \n",
       "0          0.93  \n",
       "1          4.24  \n",
       "2          2.00  \n",
       "3          2.26  \n",
       "4          2.86  \n",
       "..          ...  \n",
       "553        2.06  \n",
       "554        2.81  \n",
       "555        0.92  \n",
       "556        3.26  \n",
       "557        0.84  \n",
       "\n",
       "[558 rows x 7 columns]"
      ]
     },
     "execution_count": 6,
     "metadata": {},
     "output_type": "execute_result"
    }
   ],
   "source": [
    "# create dictionary to pass into DataFrame\n",
    "city_dict = {\n",
    "    'city_name': city_list,\n",
    "    'latitude': lat,\n",
    "    'longitude': lng,\n",
    "    'max_temperature': max_temp,\n",
    "    'humidity': humidity,\n",
    "    'cloudiness': cloudiness,\n",
    "    'wind speed': wind_speed,\n",
    "}\n",
    "\n",
    "# # # # create DataFrame from dictionary\n",
    "city_df = pd.DataFrame(city_dict)\n",
    "city_df"
   ]
  },
  {
   "cell_type": "code",
   "execution_count": 7,
   "metadata": {},
   "outputs": [],
   "source": [
    "city_df.to_csv('WeatherPy_outputs\\city_df.csv', index=False)"
   ]
  },
  {
   "cell_type": "code",
   "execution_count": 8,
   "metadata": {},
   "outputs": [
    {
     "data": {
      "text/plain": [
       "city_name          558\n",
       "latitude           558\n",
       "longitude          558\n",
       "max_temperature    558\n",
       "humidity           558\n",
       "cloudiness         558\n",
       "wind speed         558\n",
       "dtype: int64"
      ]
     },
     "execution_count": 8,
     "metadata": {},
     "output_type": "execute_result"
    }
   ],
   "source": [
    "city_df.count()"
   ]
  },
  {
   "cell_type": "markdown",
   "metadata": {},
   "source": [
    "## Inspect the data and remove the cities where the humidity > 100%.\n",
    "----\n",
    "Skip this step if there are no cities that have humidity > 100%. "
   ]
  },
  {
   "cell_type": "code",
   "execution_count": 9,
   "metadata": {
    "scrolled": true
   },
   "outputs": [
    {
     "data": {
      "text/plain": [
       "city_name          558\n",
       "latitude           558\n",
       "longitude          558\n",
       "max_temperature    558\n",
       "humidity           558\n",
       "cloudiness         558\n",
       "wind speed         558\n",
       "dtype: int64"
      ]
     },
     "execution_count": 9,
     "metadata": {},
     "output_type": "execute_result"
    }
   ],
   "source": [
    "# Create a clean DataFrame by dropping the cities where humidity > 100%\n",
    "city_clean = city_df.loc[city_df['humidity'] <= 100, :]\n",
    "city_clean.head()\n",
    "city_clean.count()"
   ]
  },
  {
   "cell_type": "code",
   "execution_count": 13,
   "metadata": {},
   "outputs": [],
   "source": [
    "#  Get the indices of cities that have humidity over 100%.\n",
    "#skip this step if no cities are over 100%"
   ]
  },
  {
   "cell_type": "code",
   "execution_count": 14,
   "metadata": {},
   "outputs": [],
   "source": [
    "# Make a new DataFrame equal to the city data to drop all humidity outliers by index.\n",
    "# Passing \"inplace=False\" will make a copy of the city_data DataFrame, which we call \"clean_city_data\".\n"
   ]
  },
  {
   "cell_type": "markdown",
   "metadata": {},
   "source": [
    "## Plotting the Data\n",
    "* Use proper labeling of the plots using plot titles (including date of analysis) and axes labels.\n",
    "* Save the plotted figures as .pngs."
   ]
  },
  {
   "cell_type": "markdown",
   "metadata": {},
   "source": [
    "## Latitude vs. Temperature Plot"
   ]
  },
  {
   "cell_type": "code",
   "execution_count": 15,
   "metadata": {
    "scrolled": true
   },
   "outputs": [
    {
     "data": {
      "image/png": "[encoded data removed]",
      "text/plain": [
       "<Figure size 432x288 with 1 Axes>"
      ]
     },
     "metadata": {
      "needs_background": "light"
     },
     "output_type": "display_data"
    }
   ],
   "source": [
    "plt.scatter(city_clean[\"latitude\"],city_clean[\"max_temperature\"],edgecolors=\"black\",facecolors=\"skyblue\")\n",
    "plt.title(\"City Latitude vs. Max Temperature\")\n",
    "plt.xlabel(\"Latitude\")\n",
    "plt.ylabel(\"Max Temperature\")\n",
    "plt.grid (b=True,which=\"major\",axis=\"both\",linestyle=\"-\",color=\"grey\")\n",
    "plt.savefig(\"WeatherPy_outputs\\lat_temp.png\")\n",
    "plt.show()"
   ]
  },
  {
   "cell_type": "markdown",
   "metadata": {},
   "source": [
    "Cities located around 20 degrees latitude are most likely to have higher maximum temperature. Cities located around 70 degrees latitude are mot likely to have lower maximum temperatures. "
   ]
  },
  {
   "cell_type": "markdown",
   "metadata": {},
   "source": [
    "## Latitude vs. Humidity Plot"
   ]
  },
  {
   "cell_type": "code",
   "execution_count": 16,
   "metadata": {},
   "outputs": [
    {
     "data": {
      "image/png": "[encoded data removed]",
      "text/plain": [
       "<Figure size 432x288 with 1 Axes>"
      ]
     },
     "metadata": {
      "needs_background": "light"
     },
     "output_type": "display_data"
    }
   ],
   "source": [
    "plt.scatter(city_clean[\"latitude\"],city_clean[\"humidity\"],edgecolors=\"black\",facecolors=\"blue\")\n",
    "plt.title(\"City Latitude vs. Humidity\")\n",
    "plt.xlabel(\"Latitude\")\n",
    "plt.ylabel(\"Humidity (%)\")\n",
    "plt.ylim(15,105)\n",
    "plt.grid (b=True,which=\"major\",axis=\"both\",linestyle=\"-\",color=\"grey\")\n",
    "plt.savefig(\"WeatherPy_outputs\\lat_humidity.png\")\n",
    "plt.show()"
   ]
  },
  {
   "cell_type": "markdown",
   "metadata": {},
   "source": [
    "There is not a linear relationship between humidity and latitude. However, cities that are more than 60 degrees latitude have corresponding humidity levels over 40%, with a majority above 80% humidity. Cities that have lower humidities (<30%), generally are located between 0 and 40 degrees latitude."
   ]
  },
  {
   "cell_type": "markdown",
   "metadata": {},
   "source": [
    "## Latitude vs. Cloudiness Plot"
   ]
  },
  {
   "cell_type": "code",
   "execution_count": 17,
   "metadata": {},
   "outputs": [
    {
     "data": {
      "image/png": "[encoded data removed]",
      "text/plain": [
       "<Figure size 432x288 with 1 Axes>"
      ]
     },
     "metadata": {
      "needs_background": "light"
     },
     "output_type": "display_data"
    }
   ],
   "source": [
    "plt.scatter(city_clean[\"latitude\"],city_clean[\"cloudiness\"],edgecolors=\"black\",facecolors=\"blue\")\n",
    "plt.title(\"City Latitude vs. Cloudiness\")\n",
    "plt.xlabel(\"Latitude\")\n",
    "plt.ylabel(\"Cloudiness (%)\")\n",
    "plt.grid (b=True,which=\"major\",axis=\"both\",linestyle=\"-\",color=\"grey\")\n",
    "plt.savefig(\"WeatherPy_outputs\\lat_cloudiness.png\")\n",
    "plt.show()"
   ]
  },
  {
   "cell_type": "markdown",
   "metadata": {},
   "source": [
    "There is not a linear relationship between cloudiness and latitude.However, this is a large proportion of cities with cloudiness at 0% along -30 to -20 degrees latitude and 10 to 40 degrees latitude. There is also a large proportion of cities with cloudiness at 100% along -10 to 10 degrees latitude and 35 to 70 degrees latitude."
   ]
  },
  {
   "cell_type": "markdown",
   "metadata": {},
   "source": [
    "## Latitude vs. Wind Speed Plot"
   ]
  },
  {
   "cell_type": "code",
   "execution_count": 18,
   "metadata": {},
   "outputs": [
    {
     "data": {
      "image/png": "[encoded data removed]",
      "text/plain": [
       "<Figure size 432x288 with 1 Axes>"
      ]
     },
     "metadata": {
      "needs_background": "light"
     },
     "output_type": "display_data"
    }
   ],
   "source": [
    "plt.scatter(city_clean[\"latitude\"],city_clean[\"wind speed\"],edgecolors=\"black\",facecolors=\"blue\")\n",
    "plt.title(\"City Latitude vs. Wind Speed\")\n",
    "plt.xlabel(\"Latitude\")\n",
    "plt.ylabel(\"Wind Speed (mph)\")\n",
    "plt.ylim(-2,15)\n",
    "plt.grid (b=True,which=\"major\",axis=\"both\",linestyle=\"-\",color=\"grey\")\n",
    "plt.savefig(\"WeatherPy_outputs\\lat_windspeed.png\")\n",
    "plt.show()"
   ]
  },
  {
   "cell_type": "markdown",
   "metadata": {},
   "source": [
    "There is not a linear relationship between wind speed and latitude. The highest windspeed, over 14 mph, was seen in a city located between 40 and 50 degrees latitude. The data is more clustered around 1-2 mph windspeed across cities at different latitudes. "
   ]
  },
  {
   "cell_type": "markdown",
   "metadata": {},
   "source": [
    "## Linear Regression"
   ]
  },
  {
   "cell_type": "code",
   "execution_count": 30,
   "metadata": {},
   "outputs": [],
   "source": [
    "#separate data into only northern hemisphere\n",
    "# Create a northern hemisphere DataFrame by only including cities where latitude >= 0 degrees\n",
    "northern_hem = city_clean.loc[city_clean['latitude'] > 0, :]\n",
    "#northern_hem"
   ]
  },
  {
   "cell_type": "code",
   "execution_count": 31,
   "metadata": {},
   "outputs": [],
   "source": [
    "#separate data into only northern hemisphere\n",
    "# Create a northern hemisphere DataFrame by only including cities where latitude < 0 degrees\n",
    "southern_hem = city_clean.loc[city_clean['latitude'] < 0, :]\n",
    "#southern_hem"
   ]
  },
  {
   "cell_type": "code",
   "execution_count": 37,
   "metadata": {},
   "outputs": [],
   "source": [
    "#create a function\n",
    "def plot_lin_reg(x_val,y_val,title,text_coordinates):\n",
    "    \n",
    "    # Run regression on Southern Hemisphere\n",
    "    (slope, intercept, rvalue, pvalue, stderr) = linregress (x_val,y_val)\n",
    "    regress_values = x_val * slope + intercept\n",
    "    line_eq = \"y = \" + str(round(slope,2)) + \" x + \" + str(round(intercept,2))\n",
    "    \n",
    "    # Plot\n",
    "    plt.scatter(x_val,y_val)\n",
    "    plt.plot(x_val, regress_values, \"r-\")\n",
    "    plt.annotate(line_eq,text_coordinates, fontsize=15, color=\"red\")\n",
    "    plt.xlabel(\"Latitude\")\n",
    "    plt.ylabel(title)\n",
    "    print(f\"The r-squared is: {str(round(rvalue,3))}\") \n",
    "    plt.show()"
   ]
  },
  {
   "cell_type": "markdown",
   "metadata": {},
   "source": [
    "####  Northern Hemisphere - Max Temp vs. Latitude Linear Regression"
   ]
  },
  {
   "cell_type": "code",
   "execution_count": 38,
   "metadata": {
    "scrolled": true
   },
   "outputs": [
    {
     "name": "stdout",
     "output_type": "stream",
     "text": [
      "The r-squared is: -0.872\n"
     ]
    },
    {
     "data": {
      "image/png": "[encoded data removed]",
      "text/plain": [
       "<Figure size 432x288 with 1 Axes>"
      ]
     },
     "metadata": {
      "needs_background": "light"
     },
     "output_type": "display_data"
    }
   ],
   "source": [
    "x_val = northern_hem[\"latitude\"]\n",
    "y_val = northern_hem[\"max_temperature\"]\n",
    "plot_lin_reg(x_val,y_val,'max_temperature', (6,30))"
   ]
  },
  {
   "cell_type": "markdown",
   "metadata": {},
   "source": [
    "There is a negative sloped relationship between max temperature and city latitude in the norther hemisphere, where the higher the latitude, the lower the maximum temperature. The r squared value of -0.872 indicates that the relationship between max tempearture and city latitude is quite strong."
   ]
  },
  {
   "cell_type": "markdown",
   "metadata": {},
   "source": [
    "####  Northern Hemisphere - Humidity (%) vs. Latitude Linear Regression"
   ]
  },
  {
   "cell_type": "code",
   "execution_count": 39,
   "metadata": {
    "scrolled": true
   },
   "outputs": [
    {
     "name": "stdout",
     "output_type": "stream",
     "text": [
      "The r-squared is: 0.28\n"
     ]
    },
    {
     "data": {
      "image/png": "[encoded data removed]",
      "text/plain": [
       "<Figure size 432x288 with 1 Axes>"
      ]
     },
     "metadata": {
      "needs_background": "light"
     },
     "output_type": "display_data"
    }
   ],
   "source": [
    "x_val = northern_hem[\"latitude\"]\n",
    "y_val = northern_hem[\"humidity\"]\n",
    "plot_lin_reg(x_val,y_val,'humidity', (6,30))"
   ]
  },
  {
   "cell_type": "markdown",
   "metadata": {},
   "source": [
    "There is a weak positive relationship between humidity and city latitude. The weak relationship is confirmed with a small r-squared value (0.28 in example)."
   ]
  },
  {
   "cell_type": "markdown",
   "metadata": {},
   "source": [
    "####  Southern Hemisphere - Max Temp vs. Latitude Linear Regression"
   ]
  },
  {
   "cell_type": "code",
   "execution_count": 40,
   "metadata": {
    "scrolled": true
   },
   "outputs": [
    {
     "name": "stdout",
     "output_type": "stream",
     "text": [
      "The r-squared is: 0.687\n"
     ]
    },
    {
     "data": {
      "image/png": "[encoded data removed]",
      "text/plain": [
       "<Figure size 432x288 with 1 Axes>"
      ]
     },
     "metadata": {
      "needs_background": "light"
     },
     "output_type": "display_data"
    }
   ],
   "source": [
    "x_val = southern_hem[\"latitude\"]\n",
    "y_val = southern_hem[\"max_temperature\"]\n",
    "plot_lin_reg(x_val,y_val,'max_temperature', (6,30))"
   ]
  },
  {
   "cell_type": "markdown",
   "metadata": {},
   "source": [
    "There is a postive relationships between maximum temperature and latitude in the southern hemsiphere, where latitude closer to 0 degrees generally show a higher max city temperature. The r-squared value indicates that the relationship between max temperature and latitude is ~strong."
   ]
  },
  {
   "cell_type": "markdown",
   "metadata": {},
   "source": [
    "####  Southern Hemisphere - Humidity (%) vs. Latitude Linear Regression"
   ]
  },
  {
   "cell_type": "code",
   "execution_count": 36,
   "metadata": {},
   "outputs": [
    {
     "name": "stdout",
     "output_type": "stream",
     "text": [
      "The r-squared is: 0.164\n"
     ]
    },
    {
     "data": {
      "image/png": "[encoded data removed]",
      "text/plain": [
       "<Figure size 432x288 with 1 Axes>"
      ]
     },
     "metadata": {
      "needs_background": "light"
     },
     "output_type": "display_data"
    }
   ],
   "source": [
    "x_val = southern_hem[\"latitude\"]\n",
    "y_val = southern_hem[\"humidity\"]\n",
    "plot_lin_reg(x_val,y_val,'humidity', (6,30))"
   ]
  },
  {
   "cell_type": "markdown",
   "metadata": {},
   "source": [
    "There is a weak positive relationship between humidity and latitude in the Southern Hemisphere, however, the data is widely dispersed. The relationship between humidity and latitude is weaker in the southern hemisphere than in the northern hemisphere."
   ]
  },
  {
   "cell_type": "markdown",
   "metadata": {},
   "source": [
    "####  Northern Hemisphere - Cloudiness (%) vs. Latitude Linear Regression"
   ]
  },
  {
   "cell_type": "code",
   "execution_count": 26,
   "metadata": {
    "scrolled": true
   },
   "outputs": [
    {
     "name": "stdout",
     "output_type": "stream",
     "text": [
      "The r-squared is: 0.232\n"
     ]
    },
    {
     "data": {
      "image/png": "[encoded data removed]",
      "text/plain": [
       "<Figure size 432x288 with 1 Axes>"
      ]
     },
     "metadata": {
      "needs_background": "light"
     },
     "output_type": "display_data"
    }
   ],
   "source": [
    "x_val = northern_hem[\"latitude\"]\n",
    "y_val = northern_hem[\"cloudiness\"]\n",
    "plot_lin_reg(x_val,y_val,'cloudiness', (6,30))"
   ]
  },
  {
   "cell_type": "markdown",
   "metadata": {},
   "source": [
    "There is a weak positive relationship between cloudiness and latitude in the northern hemisphere. The weak relationship is confirmed with a small r-squared value (0.232 in example). However, cloudiness is more likely to be 0% in cities between 10 and 40 degrees latitude and 100% cloudiness in cities between 40 and 75 degrees latitude."
   ]
  },
  {
   "cell_type": "markdown",
   "metadata": {},
   "source": [
    "####  Southern Hemisphere - Cloudiness (%) vs. Latitude Linear Regression"
   ]
  },
  {
   "cell_type": "code",
   "execution_count": 41,
   "metadata": {
    "scrolled": true
   },
   "outputs": [
    {
     "name": "stdout",
     "output_type": "stream",
     "text": [
      "The r-squared is: 0.064\n"
     ]
    },
    {
     "data": {
      "image/png": "[encoded data removed]",
      "text/plain": [
       "<Figure size 432x288 with 1 Axes>"
      ]
     },
     "metadata": {
      "needs_background": "light"
     },
     "output_type": "display_data"
    }
   ],
   "source": [
    "x_val = southern_hem[\"latitude\"]\n",
    "y_val = southern_hem[\"cloudiness\"]\n",
    "plot_lin_reg(x_val,y_val,'cloudiness', (6,30))"
   ]
  },
  {
   "cell_type": "markdown",
   "metadata": {},
   "source": [
    "There is no significant relationship between cloudiness and latitude in the southern hemisphere. However, cloudiness is more likely to be 0% in cities between -35 to -25 degrees latitude, whereas it is more likely to be 100% cloudiness in cities between -25 to -20 degrees latitude and -10 to 0 degrees latitude."
   ]
  },
  {
   "cell_type": "markdown",
   "metadata": {},
   "source": [
    "####  Northern Hemisphere - Wind Speed (mph) vs. Latitude Linear Regression"
   ]
  },
  {
   "cell_type": "code",
   "execution_count": 42,
   "metadata": {},
   "outputs": [
    {
     "name": "stdout",
     "output_type": "stream",
     "text": [
      "The r-squared is: -0.104\n"
     ]
    },
    {
     "data": {
      "image/png": "[encoded data removed]",
      "text/plain": [
       "<Figure size 432x288 with 1 Axes>"
      ]
     },
     "metadata": {
      "needs_background": "light"
     },
     "output_type": "display_data"
    }
   ],
   "source": [
    "x_val = northern_hem[\"latitude\"]\n",
    "y_val = northern_hem[\"wind speed\"]\n",
    "plot_lin_reg(x_val,y_val,'wind speed', (6,30))"
   ]
  },
  {
   "cell_type": "markdown",
   "metadata": {},
   "source": [
    "####  Southern Hemisphere - Wind Speed (mph) vs. Latitude Linear Regression"
   ]
  },
  {
   "cell_type": "code",
   "execution_count": 43,
   "metadata": {},
   "outputs": [
    {
     "name": "stdout",
     "output_type": "stream",
     "text": [
      "The r-squared is: -0.328\n"
     ]
    },
    {
     "data": {
      "image/png": "[encoded data removed]",
      "text/plain": [
       "<Figure size 432x288 with 1 Axes>"
      ]
     },
     "metadata": {
      "needs_background": "light"
     },
     "output_type": "display_data"
    }
   ],
   "source": [
    "x_val = southern_hem[\"latitude\"]\n",
    "y_val = southern_hem[\"wind speed\"]\n",
    "plot_lin_reg(x_val,y_val,'wind speed', (6,30))"
   ]
  },
  {
   "cell_type": "markdown",
   "metadata": {},
   "source": [
    "There is a weak negative correlation between wind speed and latitude in the southern hemisphere. This is confirmed with an r-squared value of -0.328."
   ]
  }
 ],
 "metadata": {
  "anaconda-cloud": {},
  "kernel_info": {
   "name": "python3"
  },
  "kernelspec": {
   "display_name": "PythonData",
   "language": "python",
   "name": "pythondata"
  },
  "language_info": {
   "codemirror_mode": {
    "name": "ipython",
    "version": 3
   },
   "file_extension": ".py",
   "mimetype": "text/x-python",
   "name": "python",
   "nbconvert_exporter": "python",
   "pygments_lexer": "ipython3",
   "version": "3.9.7"
  },
  "latex_envs": {
   "LaTeX_envs_menu_present": true,
   "autoclose": false,
   "autocomplete": true,
   "bibliofile": "biblio.bib",
   "cite_by": "apalike",
   "current_citInitial": 1,
   "eqLabelWithNumbers": true,
   "eqNumInitial": 1,
   "hotkeys": {
    "equation": "Ctrl-E",
    "itemize": "Ctrl-I"
   },
   "labels_anchors": false,
   "latex_user_defs": false,
   "report_style_numbering": false,
   "user_envs_cfg": false
  },
  "nteract": {
   "version": "0.12.3"
  }
 },
 "nbformat": 4,
 "nbformat_minor": 2
}
